{
 "cells": [
  {
   "cell_type": "markdown",
   "metadata": {},
   "source": [
    "# Bellmann Ford's Algorithm\n",
    "\n",
    "Bellmann Ford algorithm computes the shortest path from the source node to the remaining nodes in the graph. The algorithm has a slower performance than the Dijkstra's algorithm for computing the shortest path, however, the Bellmann Ford algorithm is more verstaile since it can compute the shortest path in graphs which have some negative weighted edges.\n",
    "\n",
    "In the context of routing, [Distance-Vector Routing algorithms](https://en.wikipedia.org/wiki/Distance-vector_routing_protocol) like the [Routing Information Protocol](https://en.wikipedia.org/wiki/Routing_Information_Protocol) uses a variant of the Bellmann-Ford algorithm where the number hops is the routing parameter. In practice, the Bellmann-Ford algorithm is run in a distributed setting, since it is run on individual nodes on the network.   \n",
    "\n",
    "In this notebook, we introduce the idea of the Bellmann-Ford algorithm and its implementations on both a directed and undirected weighted graphs.\n",
    "\n",
    "### Table of Contents\n",
    "1. [Building the graph](#graph1)\n",
    "2. [About the algorithm](#algorithm)\n",
    "3. [Implementation on undirected, weighted graph](#implementation)\n",
    "4. [Detecting Negative-weight cycles](#negativeCycles)\n",
    "5. [Computing shortest path on graphs with negative edges](#comparison)\n",
    "6. [Proof of Correctness](#proof)\n",
    "7. [Computing the running time](#runningTime)\n",
    "8. [References](#references)"
   ]
  },
  {
   "cell_type": "markdown",
   "metadata": {},
   "source": [
    "## Fetching required modules\n",
    "\n",
    "Before, we get started lets import code modules which would make us focus on understanding the Bellmann-Ford's algorithm."
   ]
  },
  {
   "cell_type": "code",
   "execution_count": 1,
   "metadata": {
    "scrolled": false
   },
   "outputs": [],
   "source": [
    "import os, sys\n",
    "from os.path import dirname, join, abspath\n",
    "import warnings\n",
    "warnings.filterwarnings('ignore')\n",
    "\n",
    "sys.path.insert(0, abspath(join(dirname(\"modules\"), '..')))\n",
    "from modules.create_graph_from_matrix import *\n",
    "from modules.visualize_graph import *"
   ]
  },
  {
   "cell_type": "markdown",
   "metadata": {},
   "source": [
    "<a class=\"anchor\" id=\"graph1\"></a>\n",
    "## Building the graph\n",
    "\n",
    "To establish the implementation of the Bellmann-Ford's algorithm, we create a weighted, undirected graph which is the same graph used in the [previous notebook]() for Dijkstra's algorithm."
   ]
  },
  {
   "cell_type": "code",
   "execution_count": 2,
   "metadata": {
    "scrolled": false
   },
   "outputs": [
    {
     "data": {
      "image/png": "[encoded data removed]",
      "text/plain": [
       "<Figure size 432x288 with 1 Axes>"
      ]
     },
     "metadata": {},
     "output_type": "display_data"
    }
   ],
   "source": [
    "a = Node()\n",
    "b = Node()\n",
    "c = Node()\n",
    "d = Node()\n",
    "e = Node()\n",
    "f = Node()\n",
    "\n",
    "graphs = Graph.create_from_nodeList([a, b, c, d, e, f])\n",
    "\n",
    "\n",
    "graphs.connect(a,b,1)\n",
    "graphs.connect(a,c,10)\n",
    "graphs.connect(a,e,2)\n",
    "graphs.connect(b,c,10)\n",
    "graphs.connect(b,d,6)\n",
    "graphs.connect(c,d,1)\n",
    "graphs.connect(c,f,10)\n",
    "graphs.connect(d,e,3)\n",
    "\n",
    "adjacentMatrix = graphs.get_adjMatrix()\n",
    "visualGraph = visualizeGraph(adjacentMatrix)"
   ]
  },
  {
   "cell_type": "markdown",
   "metadata": {},
   "source": [
    "<a class=\"anchor\" id=\"algorithm\"></a>\n",
    "## About the algorithm\n",
    "\n",
    "### Psuedo code\n",
    "<pre> <b>function</b> BellmanFord(<i>list</i> graph, <i>node</i> source)\n",
    "   <i>// Step 1: initialize graph</i>\n",
    "   <b>for each</b> vertex v <b>in</b> graph:\n",
    "       distance[v]&nbsp;:= <b>inf</b>             // Initialize the distance to all vertices to infinity\n",
    "       predecessor[v]&nbsp;:= <b>null</b>         // And having a null predecessor\n",
    "   <i></i>\n",
    "   distance[source]&nbsp;:= 0              // The distance from the source to itself is, of course, zero\n",
    "   <i></i>\n",
    "   <i>// Step 2: relax edges repeatedly</i>\n",
    "   <b>for</b> i <b>from</b> 1 <b>to</b> size(vertices)-1: //just |V|-1 repetitions; i is never referenced\n",
    "       <b>for each</b> edge (u, v) <b>with</b> weight w <b>in</b> edges:\n",
    "           <b>if</b> distance[u] + w &lt; distance[v]:\n",
    "               distance[v]&nbsp;:= distance[u] + w\n",
    "               predecessor[v]&nbsp;:= u\n",
    "   <i></i>\n",
    "   <i>// Step 3: check for negative-weight cycles</i>\n",
    "   <b>for each</b> edge (u, v) <b>with</b> weight w <b>in</b> edges:\n",
    "       <b>if</b> distance[u] + w &lt; distance[v]:\n",
    "           <b>error</b> \"Graph contains a negative-weight cycle\"\n",
    "   <i></i>\n",
    "   <b>return</b> distance[], predecessor[]\n",
    "</pre>"
   ]
  },
  {
   "cell_type": "markdown",
   "metadata": {},
   "source": [
    "<a class=\"anchor\" id=\"implementation\"></a>\n",
    "## Implementing Bellmann Ford's algorithm"
   ]
  },
  {
   "cell_type": "code",
   "execution_count": 3,
   "metadata": {
    "scrolled": false
   },
   "outputs": [],
   "source": [
    "def bellmannFord(graph, sourceNode, targetNode):\n",
    "    sourceNodeIndex = graph.get_nodeIndex(sourceNode)\n",
    "    targetNodeIndex = graph.get_nodeIndex(targetNode)\n",
    "    nodeList = graph.get_nodeList()\n",
    "    \n",
    "    # Make an array keeping track of distance from node to any node\n",
    "    # in self.nodes. Initialize to infinity for all nodes but the \n",
    "    # starting node, keep track of \"path\" which relates to distance.\n",
    "    # Index 0 = distance, index 1 = previous_hops\n",
    "    dist = [None] * len(nodeList)\n",
    "    previous = [None] * len(nodeList)\n",
    "    for i in range(len(dist)):\n",
    "        dist[i] = float(\"inf\")\n",
    "        previous[i] = []\n",
    "        \n",
    "    dist[sourceNodeIndex] = 0\n",
    "\n",
    "    \n",
    "    # Step 2: Relax all edges |V| - 1 times. A simple shortest  \n",
    "    # path from src to any other vertex can have at-most |V| - 1  \n",
    "    # edges \n",
    "    for i in range(len(nodeList) - 1):\n",
    "        # update dist value and parent index of adjacent values of picked vertex.\n",
    "        # consider those which are still in queue.\n",
    "        for u, v, w in graph.get_all_edges():\n",
    "            \n",
    "            if dist[u]!= float(\"Inf\") and dist[u] + w < dist[v]:\n",
    "                dist[v] = dist[u] + w\n",
    "                \n",
    "                previous[v] = list(previous[u])\n",
    "                previous[v].append(u)      \n",
    "                \n",
    "                \n",
    "    # check for negative weight cycles. If path obtained from above step (shortest distances)\n",
    "    # is shorter, there's a cycle. So quit.\n",
    "    for u, v, w in graph.get_all_edges():\n",
    "        if dist[u] != float(\"Inf\") and dist[u] + w < dist[v]:\n",
    "            print(\"Negative Cycles Detected at %d\" %v)\n",
    "            return dist[targetNodeIndex], [\"Negative Cycle Detected\"]\n",
    "        \n",
    "    #before returning add the targetNodeIndex to visited Nodes\n",
    "    previous[targetNodeIndex].append(targetNodeIndex)\n",
    "    return dist[targetNodeIndex], previous[targetNodeIndex]"
   ]
  },
  {
   "cell_type": "code",
   "execution_count": 4,
   "metadata": {
    "scrolled": false
   },
   "outputs": [
    {
     "name": "stdout",
     "output_type": "stream",
     "text": [
      "Total distance to sourceNode 0 from targetNode 5 is 16\n",
      "Nodes part of the shortest path:  [0, 4, 3, 2, 5]\n"
     ]
    },
    {
     "data": {
      "text/plain": [
       "<matplotlib.axes._subplots.AxesSubplot at 0x7fec30664b00>"
      ]
     },
     "execution_count": 4,
     "metadata": {},
     "output_type": "execute_result"
    },
    {
     "data": {
      "image/png": "[encoded data removed]",
      "text/plain": [
       "<Figure size 576x432 with 1 Axes>"
      ]
     },
     "metadata": {},
     "output_type": "display_data"
    }
   ],
   "source": [
    "sourceNode = a\n",
    "targetNode = f\n",
    "\n",
    "distances, previousNodes = bellmannFord(graphs, sourceNode, targetNode)\n",
    "\n",
    "print(\"Total distance to sourceNode %d from targetNode %d is %d\" % (graphs.get_nodeIndex(sourceNode),  graphs.get_nodeIndex(targetNode), distances))\n",
    "print(\"Nodes part of the shortest path: \",previousNodes)\n",
    "\n",
    "edgelist = []\n",
    "for i in range(len(previousNodes)):\n",
    "            try:\n",
    "                wt = graphs.getWeight(previousNodes[i],previousNodes[i+1])\n",
    "                edgelist.append((previousNodes[i],previousNodes[i+1], wt))\n",
    "\n",
    "            except IndexError:\n",
    "                break\n",
    "\n",
    "displayPath(visualGraph, edgelist)"
   ]
  },
  {
   "cell_type": "markdown",
   "metadata": {},
   "source": [
    "<a class=\"anchor\" id=\"negativeCycles\"></a>\n",
    "## Detecting Negative Weights Cycles\n",
    "\n",
    "A cycle is considered a negative weight cycle when the sum of all its edges are negative. If a negative cycle exisits in the graph that is reachable from the source node, then an additional walk over the negative cycle is required to get the shortest path. Bellmann-Ford algorithm can detect negative weight cycles which makes it useful to determine the presence of a shortest path in the graph.\n",
    "\n"
   ]
  },
  {
   "cell_type": "code",
   "execution_count": 5,
   "metadata": {
    "scrolled": false
   },
   "outputs": [
    {
     "name": "stdout",
     "output_type": "stream",
     "text": [
      "Total distance to sourceNode 0 from targetNode 5 is 16\n",
      "Nodes part of the shortest path:  [0, 4, 3, 2, 5]\n"
     ]
    }
   ],
   "source": [
    "a = Node()\n",
    "b = Node()\n",
    "c = Node()\n",
    "d = Node()\n",
    "e = Node()\n",
    "f = Node()\n",
    "\n",
    "negative_wt_graphs = Graph.create_from_nodeList([a, b, c, d, e, f])\n",
    "\n",
    "\n",
    "negative_wt_graphs.connect(a,b,1)\n",
    "negative_wt_graphs.connect(a,c,-10)\n",
    "negative_wt_graphs.connect(a,e,2)\n",
    "negative_wt_graphs.connect(b,c,10)\n",
    "negative_wt_graphs.connect(b,d,6)\n",
    "negative_wt_graphs.connect(c,d,-1)\n",
    "negative_wt_graphs.connect(c,f,-10)\n",
    "negative_wt_graphs.connect(d,e,-3)\n",
    "\n",
    "\n",
    "sourceNode = a\n",
    "targetNode = f\n",
    "\n",
    "distances, previousNodes = bellmannFord(graphs, sourceNode, targetNode)\n",
    "\n",
    "print(\"Total distance to sourceNode %d from targetNode %d is %d\" % (graphs.get_nodeIndex(sourceNode),  graphs.get_nodeIndex(targetNode), distances))\n",
    "print(\"Nodes part of the shortest path: \",previousNodes)"
   ]
  },
  {
   "cell_type": "markdown",
   "metadata": {},
   "source": [
    "<a class=\"anchor\" id=\"comparison\"></a>\n",
    "## Computing the shortest path in a graph with negative edge weights\n",
    "\n",
    "Now, we are interested to compare the Dijsktra's shortest path algorithm with the Bellmann Ford algorithm to find the difference between the two algorithms. For nodes which have non-negative edges, we find Dijkstra to be a faster and more efficient solution. However, when there are some edges that have negative weights, Dijkstra's algorithm is not able to correctly compute the shortest path. This is due to the greedy-decision making condition of selecting the node with the minimum distance. Bellmann-Ford on the other hand is able to handle the negative weights better."
   ]
  },
  {
   "cell_type": "code",
   "execution_count": 6,
   "metadata": {
    "scrolled": false
   },
   "outputs": [],
   "source": [
    "def dijkstra(graph, sourceNode, targetNode):\n",
    "    sourceNodeIndex = graph.get_nodeIndex(sourceNode)\n",
    "    targetNodeIndex = graph.get_nodeIndex(targetNode)\n",
    "    nodeList = graph.get_nodeList()\n",
    "\n",
    "    # Make an array keeping track of distance from node to any node\n",
    "    # in self.nodes. Initialize to infinity for all nodes but the \n",
    "    # starting node, keep track of \"path\" which relates to distance.\n",
    "    # Index 0 = distance, index 1 = previous_hops\n",
    "    dist = [None] * len(nodeList)\n",
    "    previous = [None] * len(nodeList)\n",
    "    for i in range(len(dist)):\n",
    "        dist[i] = float(\"inf\")\n",
    "        previous[i] = [sourceNodeIndex]\n",
    "\n",
    "    \n",
    "    dist[sourceNodeIndex] = 0\n",
    " \n",
    "    # Queue of all nodes in the graph\n",
    "    # Note the integers in the queue correspond to indices of node\n",
    "    # locations in the self.nodes array\n",
    "    queue = [i for i in range(len(nodeList))]\n",
    "    \n",
    "    # Set of numbers seen so far\n",
    "    seen = set()\n",
    "    while len(queue) > 0:\n",
    "        # Get node in queue that has not yet been seen\n",
    "        # that has smallest distance to starting node\n",
    "        min_dist = float(\"inf\")\n",
    "        min_node = None\n",
    "        for n in queue: \n",
    "            if dist[n] < min_dist and n not in seen:\n",
    "                min_dist = dist[n]\n",
    "                min_node = n\n",
    "        \n",
    "        # Add min distance node to seen, remove from queue\n",
    "        queue.remove(min_node)\n",
    "        seen.add(min_node)\n",
    "        \n",
    "        \n",
    "        # Get all next hops -> all shortest paths\n",
    "        connections = graph.connectionsFrom(min_node)\n",
    "        # For each connection, update its path and total distance from \n",
    "        # starting node if the total distance is less than the current distance\n",
    "        # in dist array\n",
    "\n",
    "        for (node, weight) in connections: \n",
    "            tot_dist = weight + min_dist\n",
    "            if tot_dist < dist[node.index]:\n",
    "                #if less, print the update\n",
    "                dist[node.index] = tot_dist\n",
    "                previous[node.index] = list(previous[min_node])\n",
    "                previous[node.index].append(node.index)\n",
    "            if node.index != targetNodeIndex:\n",
    "                pass\n",
    "            else:\n",
    "                return dist[node.index], previous[node.index]"
   ]
  },
  {
   "cell_type": "code",
   "execution_count": 7,
   "metadata": {
    "scrolled": false
   },
   "outputs": [
    {
     "name": "stdout",
     "output_type": "stream",
     "text": [
      "\t\t  | Dijkstra\t| Bellmann-Ford\n",
      "Distance Computed | 10\t\t| -9\n",
      "Previous Nodes\t  | [0, 2]\t| [0, 1, 2]\n"
     ]
    }
   ],
   "source": [
    "a = Node()\n",
    "b = Node()\n",
    "c = Node()\n",
    "d = Node()\n",
    "e = Node()\n",
    "f = Node()\n",
    "\n",
    "compare_graph = Graph.create_from_nodeList([a, b, c, d, e, f], directed=True)\n",
    "\n",
    "\n",
    "compare_graph.connect(a,b,1)\n",
    "compare_graph.connect(a,c,10)\n",
    "compare_graph.connect(a,e,2)\n",
    "compare_graph.connect(b,c,-10)\n",
    "compare_graph.connect(b,d,6)\n",
    "compare_graph.connect(c,d,1)\n",
    "compare_graph.connect(c,f,10)\n",
    "compare_graph.connect(d,e,-3)\n",
    "\n",
    "adjacentMatrix = compare_graph.get_adjMatrix()\n",
    "\n",
    "sourceNode = a\n",
    "targetNode = c\n",
    "\n",
    "distances_Dijks, previousNodes_Dijks = dijkstra(compare_graph, sourceNode, targetNode)\n",
    "distances_BF, previousNodes_BF = bellmannFord(compare_graph, sourceNode, targetNode)\n",
    "\n",
    "\n",
    "print (\"\\t\\t  | Dijkstra\\t| Bellmann-Ford\")\n",
    "print (\"Distance Computed | %d\\t\\t| %d\" % (distances_Dijks, distances_BF))\n",
    "print (\"Previous Nodes\\t  | %s\\t| %s\" % (previousNodes_Dijks, previousNodes_BF))\n"
   ]
  },
  {
   "cell_type": "markdown",
   "metadata": {},
   "source": [
    "<a class=\"anchor\" id=\"proof\"></a>\n",
    "## Proof of Correctness\n",
    "\n",
    "Let G(V,E) be a weighted, directed graph where $V$ represents the set of all nodes and $E$ represents the set of all edges in the graph. $dist[u]$ represents the distance computed by the algorithm and $\\delta(s,u)$ represents the actual shortest distance existing from the source node $s$ to the target node $u$, based on [1].\n",
    "\n",
    "\n",
    "If graph G, contains no negative weight cycles that are reachable from the source node, the Bellamm Ford Algorithm returns TRUE and $d[v] = \\delta(s, v) \\forall v \\in V$ and the subgraph of predecessors $G_{\\pi}$ is a shortest path tree rooted at $s$. If graph G contains a negative weight cycle reachable from the source node, the algorithm returns FALSE.\n",
    "\n",
    "*To Prove:* $d[u] = \\delta(s,u) \\forall u \\in V$ such that the graph contains no negative weight cycles.\n",
    "\n",
    "Let us consider that node $v$ on the graph that is reachable from the source node $s$, through a path 'p' such that $p = \\{v_{0}, v_{1},....., v_{k}\\} \\text{where v_{0} = s and v_{k} = v}$. Let path 'p' be the shortest path from the source node $s$ to node $v$ which means at most it has $|V| - 1$ edges as part of the path, thus, $k \\leq |V| - 1$.\n",
    "\n",
    "For each node v in $|V| - 1$ iterations, we perform the distance computations for the $|V| - 1$ edges as,\n",
    "$$\n",
    "\\text{if } d[v] > d[u] + edge\\_length(u,v):\\\\\n",
    "    d[v] = d[u] + edge\\_length(u,v)\\\\\n",
    "    previous[v] = u\n",
    "$$\n",
    "\n",
    "For each iteration $i$ of the algorithm, the distance computed for a node $v_{i}$ on the path 'p', $d[v_{i}] = \\delta(s, v_{i})$. The equality holds true, since we consider 'p' as the shortest path, and the distance to each edge on the path from the source node is computed in the order $(v_{0}, v_{1}), ({v_{1}, v_{2}), ......., (v_{k-1}, v_{k})$ where $v_{0} = s$, then $d[v_{k}] = \\delta(s, v_{k})$. This property holds regardless for any other computation for $d[v_{k}]$ which may occur, even if they are intermixed with the distance computation of other edges in 'p'.\n",
    "\n",
    "Thus, if a node $v \\in V$ is not reachable from the source, there would exists no path from the source $s$ to node $v$ and the computed distance will be  $d[v] = \\infty = \\delta(s, v)$. \n",
    "\n",
    "Once, we establish $d[v] = \\delta(s, v) \\forall v in V$; we have the shortest path tree $G{\\pi}$ from the source node $s$ containing all the predecessor nodes. Now, we use these claims to prove that the Bellmann Ford algorithm returns TRUE.\n",
    "\n",
    "At the termination, we have for all (u,v) in E,\n",
    "$$\n",
    "d[v] = \\delta(s, v)\\\\\n",
    "    \\leq d[u] + edge\\_length(u,v) \\\\\n",
    "    = d[u] + edge\\_length(u,v)\n",
    "$$\n",
    "\n",
    "In none of the steps, where $d[v]$ is computed can the algorithm return FALSE. Thus, the algorithm always returns TRUE.\n",
    "\n",
    "Now, if we consider that graph G contains negative weight cycles that is reachable from the source $s$ defined as $c = \\{v_{0}, v_{1},....., v_{k}\\} \\text{where v_{0} = s$; then,\n",
    "\n",
    "$$\n",
    "\\sum\\limits_{i=1}^k edge\\_length(v_{i-1}, v_{i}) <0   \\text{ (Eq.1.)}\n",
    "$$\n",
    "\n",
    "Assume that the Bellmann Ford algorithm returns TRUE, for the purpose of contradiction. Then, $d[ v_{i}] \\leq d[v_{i-1}] + edge\\_length(v_{i-1}, v_{i})$ for $i = 1, 2, ......, k$.\n",
    "\n",
    "Summing both sides of the above inequality for cycle $c$, we get,\n",
    "$$\\sum d[ v_{i}] \\leq \\sum d[v_{i-1}] + edge\\_length(v_{i-1}, v_{i}) \\\\\n",
    "\\sum d[ v_{i}] \\leq \\sum d[v_{i-1}] + \\sum edge\\_length(v_{i-1}, v_{i})$$\n",
    "\n",
    "In cycle $c$ since, $v_{0} = v_{k}$, each node is visited only once in each summation namely $\\sum\\limits_{i=1}^k d[v_{i}]$ and $\\sum\\limits_{i=1}^k d[v_{i-1}]$, which means \n",
    "\n",
    "$$\\sum\\limits_{i=1}^k d[v_{i}] = \\sum\\limits_{i=1}^k d[v_{i-1}]$$\n",
    "\n",
    "Moreover, the Bellmann Ford algorithm finds a path 'p' from the source node $s$ to the target node $u$ on G with non-negative weight cycles only when the algorithm terminates with $d[v] < \\infty$ which implies that $d[v]$ is a finite measure and that,\n",
    "$$\n",
    "0 \\leq \\sum\\limits_{i=1}^k edge\\_length(v_{i-1}, v_{i})  \\text{ (Eq.2.)}\n",
    "$$\n",
    "\n",
    "We observe that (Eq.2.) contradicts (Eq.1.) and so, Bellmann Ford algorithm returns TRUE if and only if the graph contains a non-negative cycle that is reachable from the source node $s$."
   ]
  },
  {
   "cell_type": "markdown",
   "metadata": {},
   "source": [
    "<a class=\"anchor\" id=\"runningTime\"></a>\n",
    "## Computing the Running Time\n",
    "\n",
    "The total running time of the Bellmann-Ford algorithm is $O(V \\cdot E)$ where V is the number of nodes in the graph and E is the number of edges on the graph. The total running time is derived from the following components:\n",
    "1. The initialization of the algorithm is done in $\\theta(V)$\n",
    "2. The computation of the distance of the current node from the source node is done in  $\\theta(E)$\n",
    "3. The algorithm takes $O(E)$ to detect negative weight edge cycles on the graph."
   ]
  },
  {
   "cell_type": "markdown",
   "metadata": {},
   "source": [
    "<a class=\"anchor\" id=\"references\"></a>\n",
    "## Reference\n",
    "\n",
    "- [1] Leiserson, Charles Eric, Ronald L. Rivest, Thomas H. Cormen, and Clifford Stein. Introduction to algorithms. Chapter 24. Vol. 6. Cambridge, MA: MIT press, 2001.\n",
    "- [2] Bellmann-Ford Algorithm on [Wikipedia](https://en.wikipedia.org/wiki/Bellman%E2%80%93Ford_algorithm)"
   ]
  }
 ],
 "metadata": {
  "kernelspec": {
   "display_name": "Python 3",
   "language": "python",
   "name": "python3"
  },
  "language_info": {
   "codemirror_mode": {
    "name": "ipython",
    "version": 3
   },
   "file_extension": ".py",
   "mimetype": "text/x-python",
   "name": "python",
   "nbconvert_exporter": "python",
   "pygments_lexer": "ipython3",
   "version": "3.6.9"
  }
 },
 "nbformat": 4,
 "nbformat_minor": 2
}
