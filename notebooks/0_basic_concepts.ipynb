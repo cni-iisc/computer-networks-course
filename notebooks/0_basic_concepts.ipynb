{
 "cells": [
  {
   "cell_type": "markdown",
   "metadata": {},
   "source": [
    "# Introduction to network graphs\n",
    "\n",
    "This notebook is the first in a series of notebooks designed to provide you with a hands-on learning of the fundamental graph algorithms used in networking. \n",
    "\n",
    "In this notebook we would be introducing the notion of why networks are represented through graphs and a few fundamental properties of the graph which we would be using in the subsequent notebooks.\n",
    "\n",
    "Let us start with a **notion for a network**.\n",
    "Networks refer to the arrangement through which two or more computing devices can communicate with each other. The arrangement for communication can be through different media like wired, wireless connections or through visible light. \n",
    "\n",
    "## What is a network graph?\n",
    "\n",
    "Network graphs are representations of physical networks where the nodes represent the networking devices and the edges represent the links of the network. Network graphs are weighted graphs as in, the edge contain a weight which relates to link properties like latency, link speed, distance. Network graphs can also be either directed or undirected graphs. "
   ]
  },
  {
   "cell_type": "markdown",
   "metadata": {},
   "source": [
    "## Fetching the packages for running examples\n",
    "\n",
    "We shall import the python packages used in this series of notebooks."
   ]
  },
  {
   "cell_type": "code",
   "execution_count": null,
   "metadata": {},
   "outputs": [],
   "source": [
    "import os, sys, subprocess\n",
    "from os.path import dirname, join, abspath\n",
    "import pkg_resources\n",
    "import warnings\n",
    "warnings.filterwarnings('ignore')\n",
    "\n",
    "sys.path.insert(0, abspath(join(dirname(\"modules\"), '..')))\n",
    "required = {'numpy', 'matplotlib', 'networkx', 'graphviz'}\n",
    "installed = {pkg.key for pkg in pkg_resources.working_set}\n",
    "missing = required - installed\n",
    "\n",
    "if missing:\n",
    "  if 'google.colab' in str(get_ipython()):\n",
    "    print('Running on CoLab')\n",
    "    !git clone https://github.com/cni-iisc/networks-course.git\n",
    "    !ln -sf networks-course/modules modules\n",
    "  else:\n",
    "    print('Not running on CoLab; please make sure to install the packages listed in requirements.txt')\n",
    "  \n",
    "from modules.create_graph import *\n",
    "from modules.visualize_graph import *"
   ]
  },
  {
   "cell_type": "markdown",
   "metadata": {},
   "source": [
    "## Building the graph\n",
    "\n",
    "Let us built an example weighted, undirected graph. \n",
    "\n",
    "You are free to convert this as a directed graph by setting the `directed=False` as `directed=True` as well as change the weights for the edges by replacing the `weight` value in an edge addition statement which is expressed as `graphs.add_Edge(node1, node2, weight)`"
   ]
  },
  {
   "cell_type": "code",
   "execution_count": null,
   "metadata": {},
   "outputs": [],
   "source": [
    "a = Node()\n",
    "b = Node()\n",
    "c = Node()\n",
    "d = Node()\n",
    "e = Node()\n",
    "f = Node()\n",
    "\n",
    "graphs = Graph.createGraph([a, b, c, d, e, f], directed=False)\n",
    "\n",
    "graphs.add_Edge(a,b,1)\n",
    "graphs.add_Edge(a,c,10)\n",
    "graphs.add_Edge(a,e,2)\n",
    "graphs.add_Edge(b,c,10)\n",
    "graphs.add_Edge(b,d,6)\n",
    "graphs.add_Edge(c,d,1)\n",
    "graphs.add_Edge(c,f,10)\n",
    "graphs.add_Edge(d,e,3)\n",
    "\n",
    "visualizeGraph(graphs, \"first-graph\")"
   ]
  },
  {
   "cell_type": "markdown",
   "metadata": {},
   "source": [
    "## Representating a network as graph\n",
    "\n",
    "There are two ways of representing a graph on paper (or) code namely the **Adjacency List** and **Adjacency Matrix** representations. This section will not be a detailed explanation about these representations but the purpose is to introduce how graph representations can help in implementing graph-based algorithms. \n",
    "\n",
    "**Adjacency Matrix** in a nutshell is a ($n * n$) square matrix which indicates if two vertices are connected by an edge or not. Adjacency matrices give an intutive representation of the graph. However, as the graphs get bigger the dimension of the adjacency matrix increases."
   ]
  },
  {
   "cell_type": "code",
   "execution_count": null,
   "metadata": {},
   "outputs": [],
   "source": [
    "graphs.get_adjMatrix()"
   ]
  },
  {
   "cell_type": "markdown",
   "metadata": {},
   "source": [
    "The following is the adjacency matrix representation for the graph considered as an example. In this matrix, each row and column represents one node. For example row \"1\" and column \"1\" will be associated with Node \"1\" (or `b (in code)`) in the visualized graph above. Each element in this matrix represents an edge, which is either denoted as (0,1) for an unweighted graph or with a value which corresponds to the weight of the edge. In our graph, for Node 1, we have three edges namely:\n",
    "1. (1,0) -> 1   `in code they correspond to graphs.add_Edge(a,b,1)`\n",
    "2. (1,2) -> 10  `in code they correspond to graphs.add_Edge(b,c,10)`\n",
    "3. (1,3) -> 6   `in code they correspond to graphs.add_Edge(b,d,6)`\n",
    "\n",
    "In our example, since the graph is undirected, we notice that the adjacency matrix is symmetrcical, which indicates the connections are bidirectional. "
   ]
  },
  {
   "cell_type": "markdown",
   "metadata": {},
   "source": [
    "**Adjacency List** are compact representations for the graph as each node on the graph is associated with the collection of its neighboring nodes and their corresponding edge weights. \n",
    "\n",
    "In comparison to the adjacency matrix, the main difference of adjacency lists in the amount of space in the memory it occupies. While adjacency matrix representations consume $O(n^2)$, adjacency lists consume $O(nm)$ where $m$ refers to the number of edges that are linked to the  node. The space saved in the memory also results in a faster lookups when adjacency lists are used. \n",
    "\n",
    "In practice, adjacency list representations for a graph can be done in different ways based on the data strucutre used namely with dictionaries, linked lists or hash tables. It is to be noted that adjacency lists are considered efficient implementation choice when the graph is sparsely connected. Below, is the adjacency list representation of the graph we use as example in this notebook."
   ]
  },
  {
   "cell_type": "code",
   "execution_count": null,
   "metadata": {},
   "outputs": [],
   "source": [
    "graphs.get_adjList()"
   ]
  },
  {
   "cell_type": "markdown",
   "metadata": {},
   "source": [
    "### Adjacency List vs Adjacency Matrix: an overview\n",
    "\n",
    "Now that we have an overview of the two ways to represent a graph, we are interested to understand which is a better method to represent the graph. \n",
    "\n",
    "**Performance Factors**\n",
    "1. *Space Complexity* refers to the amount of space the graph representation occupies on the memory\n",
    "2. *Edge Lookup* refers to the time taken for checking the presence or absence of an edge between two nodes\n",
    "3. *Add new edge* is the time taken to add a new edge\n",
    "4. *Add/ Delete Node* the time taken to \n",
    "\n",
    "**Notation guide**\n",
    "* `k` refers to the number of neighboring nodes in the adjacency list \n",
    "* `m` refers to the number of edges in the graph\n",
    "* `n` refers to the number of nodes in the graph\n",
    "\n",
    "|  Factor | Adjacency Matrix | Adjacency List | Winner|\n",
    "|----------------------|------------------|----------------|---------------|\n",
    "| Space Complexity     |     $O(n^2)$     |      $O(m)$    |For sparse graphs; adjacency lists|\n",
    "| Edge Lookup          |     $O(1)$       |      $O(k)$    |Adjacency Matrix, Adjacency lists are slightly slower|\n",
    "| Adding new Edge      |     $O(1)$       |      $O(1)$    |Tie|\n",
    "| Adding/Removing nodes|     $O(n)$     |      $O(k)$    |Adjacency lists if `k` < `n`|\n",
    "\n",
    "We believe this table, should help you make an informed decision on which graph representation would be suitable for your algorithm."
   ]
  },
  {
   "cell_type": "markdown",
   "metadata": {},
   "source": [
    "## Path in a Graph\n",
    "\n",
    "A path is a finite or infinite sequence of edges of a graph that connect (or) join a sequence of distinct nodes"
   ]
  },
  {
   "cell_type": "code",
   "execution_count": null,
   "metadata": {},
   "outputs": [],
   "source": [
    "a = Node()\n",
    "b = Node()\n",
    "c = Node()\n",
    "d = Node()\n",
    "e = Node()\n",
    "f = Node()\n",
    "\n",
    "graphs = Graph.createGraph([a, b, c, d, e, f], directed=False)\n",
    "\n",
    "graphs.add_Edge(a,b,1)\n",
    "graphs.add_Edge(a,c,10)\n",
    "graphs.add_Edge(a,e,2)\n",
    "graphs.add_Edge(b,c,10)\n",
    "graphs.add_Edge(b,d,6)\n",
    "graphs.add_Edge(c,d,1)\n",
    "graphs.add_Edge(c,f,10)\n",
    "graphs.add_Edge(d,e,3)\n",
    "\n",
    "visualizeGraph(graphs, \"graph-path\")\n",
    "edges_in_path = [(0, 1, 1), (1, 3, 6)]\n",
    "displayPath(edges_in_path, \"graph-path\")"
   ]
  },
  {
   "cell_type": "markdown",
   "metadata": {},
   "source": [
    "## Cycle in a graph\n",
    "\n",
    "A cycle is a path, in which the only repeating the only repeated nodes are the first and last nodes"
   ]
  },
  {
   "cell_type": "code",
   "execution_count": null,
   "metadata": {},
   "outputs": [],
   "source": [
    "a = Node()\n",
    "b = Node()\n",
    "c = Node()\n",
    "d = Node()\n",
    "\n",
    "\n",
    "graphs = Graph.createGraph([a, b, c, d], directed=True)\n",
    "\n",
    "graphs.add_Edge(a,b,1)\n",
    "graphs.add_Edge(a,c,10)\n",
    "graphs.add_Edge(b,c,10)\n",
    "graphs.add_Edge(b,d,6)\n",
    "graphs.add_Edge(c,d,1)\n",
    "graphs.add_Edge(d,a,6)\n",
    "\n",
    "visualizeGraph(graphs, \"graph-cycle\")\n",
    "edges_in_cycle = [(0, 1, 1),(1, 3, 6),(3, 0 , 6)]\n",
    "displayPath(edges_in_cycle, \"graph-cycle\")"
   ]
  },
  {
   "cell_type": "markdown",
   "metadata": {},
   "source": [
    "## Connectedness of Graph\n",
    "\n",
    "**Connected Graphs**: Connected graphs are graphs where a path exists from every node to every other node.\n",
    "\n",
    "`Exercise: Show that if there exists a path from one node to every other node the graph is connected.`"
   ]
  },
  {
   "cell_type": "code",
   "execution_count": null,
   "metadata": {},
   "outputs": [],
   "source": [
    "a = Node()\n",
    "b = Node()\n",
    "c = Node()\n",
    "d = Node()\n",
    "e = Node()\n",
    "f = Node()\n",
    "\n",
    "graphs = Graph.createGraph([a, b, c, d, e, f], directed=False)\n",
    "\n",
    "graphs.add_Edge(a,b,1)\n",
    "graphs.add_Edge(a,c,10)\n",
    "graphs.add_Edge(a,e,2)\n",
    "graphs.add_Edge(b,c,10)\n",
    "graphs.add_Edge(b,d,6)\n",
    "graphs.add_Edge(c,d,1)\n",
    "graphs.add_Edge(c,f,10)\n",
    "graphs.add_Edge(d,e,3)\n",
    "\n",
    "visualizeGraph(graphs, \"connected-graph\")"
   ]
  },
  {
   "cell_type": "markdown",
   "metadata": {},
   "source": [
    "**Disconnected Graphs**: \n",
    "\n",
    "You have the sub graphs and the component of a graph! "
   ]
  },
  {
   "cell_type": "code",
   "execution_count": null,
   "metadata": {},
   "outputs": [],
   "source": [
    "a = Node()\n",
    "b = Node()\n",
    "c = Node()\n",
    "d = Node()\n",
    "e = Node()\n",
    "f = Node()\n",
    "\n",
    "graphs = Graph.createGraph([a, b, c, d, e, f], directed=False)\n",
    "\n",
    "\n",
    "# graphs.add_Edge(a,c,10)\n",
    "graphs.add_Edge(c,e,2)\n",
    "# graphs.add_Edge(b,c,10)\n",
    "graphs.add_Edge(e,d,6)\n",
    "graphs.add_Edge(c,d,1)\n",
    "graphs.add_Edge(c,f,10)\n",
    "graphs.add_Edge(d,e,3)\n",
    "\n",
    "\n",
    "visualizeGraph(graphs, \"disconnected-graph\")"
   ]
  },
  {
   "cell_type": "markdown",
   "metadata": {},
   "source": [
    "## References\n",
    "\n",
    "1. Notes from [tutorialspoint.com](https://www.tutorialspoint.com/graph_theory/)"
   ]
  }
 ],
 "metadata": {
  "kernelspec": {
   "display_name": "Python 3",
   "language": "python",
   "name": "python3"
  },
  "language_info": {
   "codemirror_mode": {
    "name": "ipython",
    "version": 3
   },
   "file_extension": ".py",
   "mimetype": "text/x-python",
   "name": "python",
   "nbconvert_exporter": "python",
   "pygments_lexer": "ipython3",
   "version": "3.7.3"
  }
 },
 "nbformat": 4,
 "nbformat_minor": 2
}
