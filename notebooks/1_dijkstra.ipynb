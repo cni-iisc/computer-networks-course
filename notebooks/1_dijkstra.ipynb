{
 "cells": [
  {
   "cell_type": "markdown",
   "metadata": {},
   "source": [
    "# Dijkstra's Shortest Path Algorithm\n",
    "\n",
    "\n",
    "Have you ever wondered the algorithm that generates the shortest route between two locations on Google Maps?\n",
    "(or) How network packets are efficiently routed from between two network devicees in the same network?\n",
    "\n",
    "These problems are solved by the class of algorithms called the Single Source Shortest Path Algorithms. The two scenarios mentioned above is solved with a variant of the **Dijkstra's Algorithm**, a greedy Single Source Shortest Path Algorithm. In the context of networking, there are varaints of the Dijkstra's Algorithm that are used in routing packets in the network which constitute the [Link State Routing(LSR)](https://en.wikipedia.org/wiki/Link-state_routing_protocol). [Intermediate System to Intermediate System (IS-IS)](https://en.wikipedia.org/wiki/IS-IS) and [Open Shortest Path First (OSPF)](https://en.wikipedia.org/wiki/Open_Shortest_Path_First) are examples of \n",
    "\n",
    "\n",
    "\n",
    "In this notebook, we aim to introduce the idea of implementing the Dijkstra's algorithm on a *undirected, weighted graph*. If the terms *undirected graphs* and *weighted graphs* are new to you, please check out the previous notebook [basic concepts of network graphs](./0_basic_concepts.ipynb). This notebook is organized as follows:\n",
    "\n",
    "### Table of Contents\n",
    "1. [Building the graph](#setup1)\n",
    "2. [Implementing Dijkstra shortest path algorithm](#algorithm)\n",
    "    1. [Pseudocode](#pseudocode)\n",
    "3. [Computing the shortest path given source and target nodes](#shortestPath1)\n",
    "4. [Running Dijkstra on a weighted, directed graph](#directedGraphs)\n",
    "5. [Running Dijkstra on a negative-weighted, directed graph](#NegdirectedGraphs)\n",
    "6. [Proof of Correctness](#proof)\n",
    "7. [References](#references)"
   ]
  },
  {
   "cell_type": "markdown",
   "metadata": {},
   "source": [
    "## Fetching required modules\n",
    "\n",
    "Before we get started, lets import code modules which would make us focus on understanding the Dijkstra's shortest path algorithm."
   ]
  },
  {
   "cell_type": "code",
   "execution_count": null,
   "metadata": {
    "scrolled": true
   },
   "outputs": [],
   "source": [
    "import os, sys, subprocess\n",
    "from os.path import dirname, join, abspath\n",
    "import pkg_resources\n",
    "import warnings\n",
    "warnings.filterwarnings('ignore')\n",
    "\n",
    "sys.path.insert(0, abspath(join(dirname(\"modules\"), '..')))\n",
    "required = {'numpy', 'matplotlib', 'networkx', 'graphviz'}\n",
    "installed = {pkg.key for pkg in pkg_resources.working_set}\n",
    "missing = required - installed\n",
    "\n",
    "if missing:\n",
    "  if 'google.colab' in str(get_ipython()):\n",
    "    print('Running on CoLab')\n",
    "    !git clone https://github.com/cni-iisc/networks-course.git\n",
    "    !ln -sf networks-course/modules modules\n",
    "  else:\n",
    "    print('Not running on CoLab; please make sure to install the packages listed in requirements.txt')\n",
    "  \n",
    "from modules.create_graph import *\n",
    "from modules.visualize_graph import *"
   ]
  },
  {
   "cell_type": "markdown",
   "metadata": {},
   "source": [
    "<a class=\"anchor\" id=\"setup1\"></a>\n",
    "## Building the graph \n",
    "\n",
    "For this notebook, we consider a simple, weighted and undirected graph. By a simple graph, we mean that there exists only one edge between a pair of nodes."
   ]
  },
  {
   "cell_type": "code",
   "execution_count": null,
   "metadata": {
    "scrolled": false
   },
   "outputs": [],
   "source": [
    "a = Node()\n",
    "b = Node()\n",
    "c = Node()\n",
    "d = Node()\n",
    "e = Node()\n",
    "f = Node()\n",
    "\n",
    "\n",
    "graphs = Graph.createGraph([a, b, c, d, e, f], directed=False)\n",
    "\n",
    "\n",
    "graphs.add_Edge(a,b,1)\n",
    "graphs.add_Edge(a,c,10)\n",
    "graphs.add_Edge(a,e,2)\n",
    "graphs.add_Edge(b,c,10)\n",
    "graphs.add_Edge(b,d,6)\n",
    "graphs.add_Edge(c,d,1)\n",
    "graphs.add_Edge(c,f,10)\n",
    "graphs.add_Edge(d,e,3)\n",
    "\n",
    "\n",
    "visualizeGraph(graphs, \"Dijkstra\")"
   ]
  },
  {
   "cell_type": "markdown",
   "metadata": {},
   "source": [
    "<a class=\"anchor\" id=\"algorithm\"></a>\n",
    "## Implementing Dijkstra's shortest path algorithm\n",
    "\n",
    "### About the algorithm\n",
    "The idea behind Dijkstra's algorithm is to find the shortest path from a source Node to all the nodes (or) a specific target node on the graph without checking every source-to-destination combination, which in the worst case could be exponential in the number of vertices. Thus, considering every source-to-destination combination means that the computation of shortest path in large graphs becomes time consuming and cumbersome. Dijkstra's algorithm proposes a greedy approach, where at every iteration, the algorithm chooses a node with the current shortest distance and searches for paths extending from that node. We will make these statements clearer in coming sections.\n",
    "\n",
    "<a class=\"anchor\" id=\"pseudocode\"></a>\n",
    "### Pseudo Code\n",
    "<pre> \n",
    "1  <b>function</b> Dijkstra(<i>Graph</i>, <i>source</i>):\n",
    "2      \n",
    "3      create all node set Q\n",
    "4      create visited node set seen\n",
    "5      <b>for each</b> node <i>v</i> in <i>Graph</i>:             \n",
    "6          distance[<i>v</i>] ← INFINITY                  \n",
    "7          previousNode[<i>v</i>] ← UNDEFINED                 \n",
    "8          add <i>v</i> to <i>Q</i>    \n",
    "9\n",
    "10      distance[<i>source</i>] ← 0                        \n",
    "11      \n",
    "12      <b>while</b> <i>Q</i> is not empty:\n",
    "13          <i>min_node</i> ← node in <i>Q</i> with min dist[min_node]   //node reached through smallest distance edge\n",
    "14                                              \n",
    "15          remove <i>min_node</i> from <i>Q</i> \n",
    "16          add min_node to seen \n",
    "17          <b>for each</b> neighbor <i>v</i> of <i>min_node</i> in <i>Q</i>: <i>// only v that are still in Q</i>\n",
    "18              <i>computedDistance</i> ← distance[<i>min_node</i>] + length(<i>min_node</i>, <i>v</i>)\n",
    "19              <b>if</b> <i>computedDistance</i> &lt; distance[<i>v</i>]:               \n",
    "20                  distance[<i>v</i>] ← <i>computedDistance</i> \n",
    "21                  previousNode[<i>v</i>] ← <i>min_node</i> \n",
    "22\n",
    "23      <b>return</b> distance[], previousNode[]\n",
    "</pre>"
   ]
  },
  {
   "cell_type": "code",
   "execution_count": null,
   "metadata": {
    "scrolled": true
   },
   "outputs": [],
   "source": [
    "def dijkstra(graph, sourceNode, targetNode):\n",
    "    sourceNodeIndex = graph.get_nodeIndex(sourceNode)\n",
    "    targetNodeIndex = graph.get_nodeIndex(targetNode)\n",
    "    nodeList = graph.get_allNodes()\n",
    "\n",
    "    # Make an array keeping track of distance from node to any node\n",
    "    # in self.nodes. Initialize to infinity for all nodes but the \n",
    "    # starting node, keep track of \"path\" which relates to distance.\n",
    "    # Index 0 = distance, index 1 = previous_hops\n",
    "    dist = [None] * len(nodeList)\n",
    "    previous = [None] * len(nodeList)\n",
    "    for i in range(len(dist)):\n",
    "        dist[i] = float(\"inf\")\n",
    "        previous[i] = [sourceNodeIndex]\n",
    "\n",
    "    \n",
    "    dist[sourceNodeIndex] = 0\n",
    " \n",
    "    # Queue of all nodes in the graph\n",
    "    # Note the integers in the queue correspond to indices of node\n",
    "    # locations in the self.nodes array\n",
    "    queue = [i for i in range(len(nodeList))]\n",
    "    \n",
    "    # Set of numbers seen so far\n",
    "    seen = set()\n",
    "    while len(queue) > 0:\n",
    "        # Get node in queue that has not yet been seen\n",
    "        # that has smallest distance to starting node\n",
    "        min_dist = float(\"inf\")\n",
    "        min_node = None\n",
    "        for n in queue: \n",
    "            if dist[n] < min_dist and n not in seen:\n",
    "                min_dist = dist[n]\n",
    "                min_node = n\n",
    "        try:\n",
    "            # Add min distance node to seen, remove from queue\n",
    "            queue.remove(min_node)\n",
    "            seen.add(min_node)\n",
    "\n",
    "\n",
    "            # Get all next hops -> all shortest paths\n",
    "            connections = graph.get_connections(min_node)\n",
    "\n",
    "            # For each connection, update its path and total distance from \n",
    "            # starting node if the total distance is less than the current distance\n",
    "            # in dist array\n",
    "            print(\"current node is %s\" % min_node, \"\\t and its neighbors are:\" , [node for (node, weight) in connections.items()])\n",
    "            print(\"nodes that are seen uptil now: \", list(seen))\n",
    "            for (node, weight) in connections.items(): \n",
    "\n",
    "                tot_dist = weight + min_dist\n",
    "                #print(\"From Node %s to Node %s there is an edge of weight %d\" % (min_node, node, weight))\n",
    "                #print('Previous distance value: %.0f \\t Computed distance value: %d' % (dist[node], tot_dist))\n",
    "\n",
    "                if tot_dist < dist[node]:\n",
    "                    #if less, print the update\n",
    "                    print(\"For node %d : Initial Distance was %.0f has been updated to %d \" % (node, dist[node], tot_dist))\n",
    "                    dist[node] = tot_dist\n",
    "                    previous[node] = list(previous[min_node])\n",
    "                    previous[node].append(node)\n",
    "                    \n",
    "                    if node == targetNodeIndex :\n",
    "                        seen.add(node)\n",
    "                        print(\"\\n****************************************************************************************\")\n",
    "                        print(\"Total distance to sourceNode %d from targetNode %d is %d\" % (sourceNodeIndex, targetNodeIndex, dist[node]))\n",
    "                        print(\"Nodes part of the shortest path: \", previous[node])\n",
    "                        return dist[node], previous[node]\n",
    "        except ValueError:\n",
    "                return (\"No path exists to node %d since there is %s\" %(targetNodeIndex, \"no edge connected to the graph\")), None\n",
    "                \n",
    "        print(\"---------------------------------------------------------------------------------------\\n\")\n",
    "    "
   ]
  },
  {
   "cell_type": "markdown",
   "metadata": {},
   "source": [
    "<a class=\"anchor\" id=\"shortestPath1\"></a>\n",
    "## Computing the shortest path given source and target nodes\n",
    "\n",
    "Now, that we have an understanding of how DIjkstra's algorithm computes the shortest path, we find the shortest path between a given source node and the target node. In short, we visualize only the shortest path between the source and the target nodes instead of visualizing the shortest paths to all the nodes. "
   ]
  },
  {
   "cell_type": "code",
   "execution_count": null,
   "metadata": {
    "scrolled": false
   },
   "outputs": [],
   "source": [
    "sourceNode = a\n",
    "targetNode = g\n",
    "\n",
    "distances, previousNodes = dijkstra(graphs, sourceNode, targetNode)\n",
    "edgelist = []\n",
    "path = None\n",
    "if previousNodes != None:\n",
    "    for i in range(len(previousNodes)):\n",
    "            try:\n",
    "                wt = graphs.get_edgeWeight(previousNodes[i],previousNodes[i+1])\n",
    "                edgelist.append((previousNodes[i],previousNodes[i+1], wt))\n",
    "\n",
    "            except IndexError:\n",
    "                break\n",
    "\n",
    "    path = displayPath(edgelist, \"Dijkstra\")\n",
    "else:\n",
    "    print(distances)\n",
    "\n",
    "path"
   ]
  },
  {
   "cell_type": "markdown",
   "metadata": {},
   "source": [
    "<a class=\"anchor\" id=\"directedGraphs\"></a>\n",
    "## Running Dijkstra on a weighted, directed graph\n",
    "\n",
    "To establish that the Dijkstra's algorithm could be run on directed graphs, let us consider the following example"
   ]
  },
  {
   "cell_type": "code",
   "execution_count": null,
   "metadata": {
    "scrolled": false
   },
   "outputs": [],
   "source": [
    "directed_graphs = Graph.createGraph([a, b, c, d, e, f], directed=True)\n",
    "\n",
    "\n",
    "directed_graphs.add_Edge(a,b,1)\n",
    "directed_graphs.add_Edge(a,c,10)\n",
    "directed_graphs.add_Edge(c,a,4)\n",
    "directed_graphs.add_Edge(a,e,2)\n",
    "directed_graphs.add_Edge(b,c,10)\n",
    "directed_graphs.add_Edge(b,d,6)\n",
    "directed_graphs.add_Edge(d,c,5)\n",
    "directed_graphs.add_Edge(c,d,1)\n",
    "directed_graphs.add_Edge(f,c,1)\n",
    "directed_graphs.add_Edge(c,f,10)\n",
    "directed_graphs.add_Edge(d,e,3)\n",
    "directed_graphs.add_Edge(e,d,1)\n",
    "\n",
    "visualizeGraph(directed_graphs, \"directedDijkstra\")"
   ]
  },
  {
   "cell_type": "code",
   "execution_count": null,
   "metadata": {
    "scrolled": false
   },
   "outputs": [],
   "source": [
    "sourceNode = a\n",
    "targetNode = f\n",
    "\n",
    "dir_distances, dir_previousNodes = dijkstra(directed_graphs, sourceNode, targetNode)\n",
    "\n",
    "dir_edgelist = []\n",
    "if dir_previousNodes == None:\n",
    "    print(dir_distances)\n",
    "else:\n",
    "    for i in range(len(dir_previousNodes)):\n",
    "                try:\n",
    "                    wt = directed_graphs.get_edgeWeight(dir_previousNodes[i],dir_previousNodes[i+1])\n",
    "                    dir_edgelist.append((dir_previousNodes[i],dir_previousNodes[i+1], wt))\n",
    "\n",
    "                except IndexError:\n",
    "                    break\n",
    "\n",
    "displayPath(dir_edgelist, \"directedDijkstra\")"
   ]
  },
  {
   "cell_type": "markdown",
   "metadata": {},
   "source": [
    "## Running Dijkstra's on Negative-weighted graphs\n",
    "\n",
    "When running Dijkstra on negative weighted graph, we are not always guaranteed a shortest path from the source node. This is due to two steps in the design of the algorithm:\n",
    "\n",
    "1. Once  a node is added to `seen` it is not visited again which means that if we are able to find a shortest path on a negative weighted graph - it does not update the distance for the visited node.\n",
    "2. Since the algorithm applies the greedy criterion of picking the edge with the smallest weight from the current node; there is a possibility that a shorter path to a node from the source is not discovered, which means that there is no guarantee that the computed path is the shortest path.\n",
    "\n",
    "Bellman-Ford algorithm, which we shall introduce in the [next notebook](./2_bellman_ford.ipynb), can work better than the Dijkstra's algorithm on graphs with negative weights."
   ]
  },
  {
   "cell_type": "markdown",
   "metadata": {},
   "source": [
    "<a class=\"anchor\" id=\"proof\"></a>\n",
    "## Proof of Correctness\n",
    "\n",
    "We will now formally prove the correctness of Dijkstra's algorithm. \n",
    "\n",
    "Let us first setup some required notation. Consider Dijkstra's algorithm run on a directed, weighted graph represented as $G(V,E)$ where $V$ is the set of nodes of $G$ and E is the set of edges of $G$ which contain non-negative edges. Let $s$ denote the source node. For any node $u \\in V$, let $\\delta(u)$ denote the shortest path distance between node $s$ to node $u$. Let $d[u]$ denote the distance computed by Dijkstra's algorithm from source node $s$ to node $u$.\n",
    "\n",
    "To prove the correctness of Dijkstra's algorithm, we need to establish that $$d[u] = \\delta(u) \\quad  \\forall u \\in V.$$ We will show that the above equality is true at the moment when node $u$ is added to the set of visited nodes $S$. At any iteration, let $Q$ denote the set of not visited nodes, such that $V = S \\cup Q$. Once we establish the above equality at the moment of addition of node $u$ to $S$, we make use of the fact that the distance is not updated thereafter for node $u$ to establish the correctess at further time instances.\n",
    "\n",
    "*Initialization:* We set $d[s] = 0$ and set all other distances as infinity, i.e., $d[u] = \\infty \\quad \\forall u \\in V, u \\neq s$.\n",
    "\n",
    "*Induction hypothesis or assumption*: For all nodes $x$ in visited set $S$, $d[x] = \\delta(x).$\n",
    "\n",
    "After the first iteration, $S = \\{s\\}$ and $d[s] = \\delta(s) = 0$, thus satisfying the induction hypothesis.\n",
    "\n",
    "*Induction step:* We show that for a new node $u$ added to visited set $S$, $d[u] = \\delta(u).$ We will prove this claim via contradiction. \n",
    "\n",
    "**Claim 1:** For all nodes $v$ not in set of visited nodes, $d[v] \\ge \\delta(v).$\n",
    "\n",
    "*Proof:* If $d[v] = \\infty,$ the claim is trivially true. If $d[v] < \\infty,$ there exists $x \\in S$ such that \n",
    "\\begin{align}\n",
    "d[v] &= d[x] + len(x,v)\\\\\n",
    "&=\\delta(x)+len(x,v)\\\\\n",
    "&\\ge \\delta(v),\n",
    "\\end{align}\n",
    "where the second equality follows from our inductive hypothesis on the set of visited nodes $S$, and the third inequality follows from the fact that this is the distance for one feasible path and does not necessarily be the optimal path to $v$.\n",
    "\n",
    "Let $u$ be the first node for which $d[u] \\neq \\delta(u)$ when it is added to the set of visited nodes $S$. Combined with the above claim, this implies that $d[u] > \\delta(u)$. Let $P$ denote the optimal path from source $s$ to $u$ with distance $\\delta(u)$. Let the path $P$ be represented as $P = s-x^*-y-u$, where $x^*$ is the last element of $P$ in $S$, and let $y \\in Q$ be the first element just after $x^*$. The following inequalities should hold:\n",
    "\\begin{align}\n",
    "\\delta(u) &= \\delta(x^*)+len(x^*,y)+length(y,u)\\\\\n",
    "&\\ge d[y] + length(y,u)\\\\\n",
    "&\\ge d[y]\\\\\n",
    "&\\ge d[u],\n",
    "\\end{align}\n",
    "\n",
    "which contradicts the initial claim. The first inequality holds from the definition of $d[y]$, the second inequality follows as $length(y,x) \\ge 0$, and the third inequality follows from the fact that since $u$ was chosen over $y$ to be added to $S$, $d[u] \\le d[y]$. \n",
    "\n",
    "Hence, $d[u] = \\delta(u)$."
   ]
  },
  {
   "cell_type": "markdown",
   "metadata": {
    "scrolled": true
   },
   "source": [
    "<a class=\"anchor\" id=\"references\"></a>\n",
    "## Reference\n",
    "\n",
    "- [1] Leiserson, Charles Eric, Ronald L. Rivest, Thomas H. Cormen, and Clifford Stein. Introduction to algorithms. Chapter 24. Vol. 6. Cambridge, MA: MIT press, 2001.\n",
    "- [2] Dijkstra's Algorithm on [Wikipedia](https://en.wikipedia.org/wiki/Dijkstra%27s_algorithm)\n",
    "- [3] Micha Shute, Dijkstra's Shortest Path Algorithm in Python on [Medium](https://medium.com/cantors-paradise/dijkstras-shortest-path-algorithm-in-python-d955744c7064)"
   ]
  }
 ],
 "metadata": {
  "kernelspec": {
   "display_name": "Python 3",
   "language": "python",
   "name": "python3"
  },
  "language_info": {
   "codemirror_mode": {
    "name": "ipython",
    "version": 3
   },
   "file_extension": ".py",
   "mimetype": "text/x-python",
   "name": "python",
   "nbconvert_exporter": "python",
   "pygments_lexer": "ipython3",
   "version": "3.7.3"
  }
 },
 "nbformat": 4,
 "nbformat_minor": 2
}
