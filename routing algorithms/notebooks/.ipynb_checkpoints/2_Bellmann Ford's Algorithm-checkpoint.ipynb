{
 "cells": [
  {
   "cell_type": "code",
   "execution_count": null,
   "metadata": {},
   "outputs": [],
   "source": []
  },
  {
   "cell_type": "code",
   "execution_count": 2,
   "metadata": {},
   "outputs": [],
   "source": [
    "import os, sys\n",
    "from os.path import dirname, join, abspath\n",
    "import warnings\n",
    "warnings.filterwarnings('ignore')\n",
    "\n",
    "sys.path.insert(0, abspath(join(dirname(\"modules\"), '..')))\n",
    "from modules.create_graph_from_matrix import *\n",
    "from modules.visualize_graph import *"
   ]
  },
  {
   "cell_type": "code",
   "execution_count": null,
   "metadata": {},
   "outputs": [],
   "source": [
    "a = Node()\n",
    "b = Node()\n",
    "c = Node()\n",
    "d = Node()\n",
    "e = Node()\n",
    "f = Node()\n",
    "\n",
    "graphs = Graph.create_from_nodeList([a, b, c, d, e, f])\n",
    "\n",
    "\n",
    "graphs.connect(a,b,1)\n",
    "graphs.connect(a,c,10)\n",
    "graphs.connect(a,e,2)\n",
    "graphs.connect(b,c,10)\n",
    "graphs.connect(b,d,6)\n",
    "graphs.connect(c,d,1)\n",
    "graphs.connect(c,f,10)\n",
    "graphs.connect(d,e,3)\n",
    "\n",
    "adjacentMatrix = graphs.get_adjMatrix()\n",
    "visualGraph = visualizeGraph(adjacentMatrix)"
   ]
  }
 ],
 "metadata": {
  "kernelspec": {
   "display_name": "Python 3",
   "language": "python",
   "name": "python3"
  },
  "language_info": {
   "codemirror_mode": {
    "name": "ipython",
    "version": 3
   },
   "file_extension": ".py",
   "mimetype": "text/x-python",
   "name": "python",
   "nbconvert_exporter": "python",
   "pygments_lexer": "ipython3",
   "version": "3.6.9"
  }
 },
 "nbformat": 4,
 "nbformat_minor": 2
}
