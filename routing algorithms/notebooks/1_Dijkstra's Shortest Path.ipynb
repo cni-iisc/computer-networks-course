{
 "cells": [
  {
   "cell_type": "markdown",
   "metadata": {},
   "source": [
    "# Dijkstra's Single Source Shortest Path Algorithm\n",
    "\n",
    "\n",
    "Have you ever wondered the algorithm that powers finding the shortest route between two locations on Google Maps?\n",
    "(or) How network packets are efficiently routed from the source node to the target node in a network?\n",
    "\n",
    "The answers to the above questions can be found in the Single Source Shortest Path Algorithm, more commonly referred as the **Dijkstra's Algorithm**. In this notebook, we aim to introduce the idea of implementing the Dijkstra's algorithm on a *undirected, weighted graph*. If the terms *undirected graphs* and *weighted graphs* are new to you, please check out the previous notebook [0_graphs and graph representations](#). This notebook is organized as follows:\n",
    "\n",
    "--table of contents comes here(with links to sections)--\n"
   ]
  },
  {
   "cell_type": "markdown",
   "metadata": {},
   "source": [
    "# Fetching required modules\n",
    "\n",
    "Before, we get started lets import code modules which would make us focus on understanding the Dijkstra's shortest path algorithm."
   ]
  },
  {
   "cell_type": "code",
   "execution_count": 1,
   "metadata": {},
   "outputs": [],
   "source": [
    "import os, sys\n",
    "from os.path import dirname, join, abspath\n",
    "import warnings\n",
    "warnings.filterwarnings('ignore')\n",
    "\n",
    "sys.path.insert(0, abspath(join(dirname(\"modules\"), '..')))\n",
    "from modules.create_graph_from_adjMatrix import *\n",
    "from modules.visualize_graph import *"
   ]
  },
  {
   "cell_type": "markdown",
   "metadata": {},
   "source": [
    "## Building the graph\n",
    "\n",
    "The notion or idea of a graph is a set of nodes that are connected by edges. \n",
    "\n",
    "Nodes are objects or points that represent a networking device or component like edge nodes, router, data centres, name servers. Edges represents the connection between two nodes, and often time communicates two information namely the weight and direction.\n",
    "1. **Weights** is a scalar quantity that typically represents either the distance between two nodes, or the latency between two nodes on the network.\n",
    "2. **Direction** is a quantity which represents the direction in which communication happens between two nodes."
   ]
  },
  {
   "cell_type": "code",
   "execution_count": 2,
   "metadata": {},
   "outputs": [
    {
     "data": {
      "image/png": "[encoded data removed]",
      "text/plain": [
       "<Figure size 432x288 with 1 Axes>"
      ]
     },
     "metadata": {},
     "output_type": "display_data"
    }
   ],
   "source": [
    "a = Node()\n",
    "b = Node()\n",
    "c = Node()\n",
    "d = Node()\n",
    "e = Node()\n",
    "f = Node()\n",
    "\n",
    "graphs = Graph.create_from_nodeList([a, b, c, d, e, f])\n",
    "\n",
    "\n",
    "graphs.connect(a,b,1)\n",
    "graphs.connect(a,c,10)\n",
    "graphs.connect(a,e,2)\n",
    "graphs.connect(b,c,10)\n",
    "graphs.connect(b,d,6)\n",
    "graphs.connect(c,d,1)\n",
    "graphs.connect(c,f,10)\n",
    "graphs.connect(d,e,3)\n",
    "\n",
    "adjacentMatrix = graphs.get_adjMatrix()\n",
    "visualGraph = visualizeGraph(adjacentMatrix)"
   ]
  },
  {
   "cell_type": "markdown",
   "metadata": {},
   "source": [
    "This is a sample graph that will be used by us for the entire notebook. You are free to add (or) change the number of nodes, and edges.\n",
    "\n",
    "Typically, both nodes and edges can contain information. For example in a typical home network the nodes represent the network components_that can be named like 'home router' (or) 'switch' and the edges represents the distance between the network components. The notable routing algorithms that use the Dijkstra's algorithms are [Intermediate System to Intermediate System (IS-IS)](https://en.wikipedia.org/wiki/IS-IS) and [Open Shortest Path First (OSPF)](https://en.wikipedia.org/wiki/Open_Shortest_Path_First) both of which correspond to the class of routing algorithms called [Link State Routing(LSR)](https://en.wikipedia.org/wiki/Link-state_routing_protocol)\n",
    "\n",
    "You can also consider graphs to be relevant in other applications like social networks which contain nodes as users and edges could interactions between users, knowledge graphs which powers platforms like Wikipedia which have nodes as wiki articles and edges as their relationship with other pages.\n",
    "\n",
    "In the above implementation of creating a graph, you can also pass an additional data parameter which allows the nodes in the graphs to hold additional data. "
   ]
  },
  {
   "cell_type": "markdown",
   "metadata": {},
   "source": [
    "# Implementing Dijkstra shortest path algorithm\n",
    "\n",
    "**Important Notes**\n",
    "1. The algorithm cannot have negative edge weights. \n",
    "   **Reason:** Negative weights will adversely affect the distance comparison step, meaning the greedy approach of always finding the shortest path will not be met.\n",
    "2. Dijkstra's algorithm is commonly implemented to find all the shortest paths from the source Node. In this notebook, you are shown both the implementation of finding all the shortest paths from the source and the shortest path between a given source and target node. The paths found by the Sijkstra's algorithm are the absolute shortest path, which we explain in the [Proof of Correctness](#) section.\n",
    "3. We will also be demonstrating the implementation of the Dijkstra's algorithm using the adjacency list as well as the adjacency matrix representations of a graph. We also add the optimized implementaiton of the Dijkstra's algorithm which makes it asymptotically faster.\n",
    "\n",
    "### About the algorithm\n",
    "The idea behind Dijkstra's algorithm is to find the shortest path from a source Node to all the nodes (or) a specific target node on the graph without checking every source-to-destination combination. The drawback of considering every source-to-destination combination means that the computation of shortest path in large graphs becomes time consuming and cumbersome to check if we have the shortest path. Thus, the Dijkstra's algorithm proposed a greedy approach where the shortest path to the target is taken by considering the minimum distance to be travelled at a given time. [[2]](https://medium.com/cantors-paradise/dijkstras-shortest-path-algorithm-in-python-d955744c7064)\n",
    "\n",
    "### Algorithm steps\n",
    "\n",
    "**Setup()**\n",
    "1. Set distance to all node nodes from the `source` as `infinity`\n",
    "2. Define an empty list of `seen_nodes`. This helps us to prevent compute the shortest path for nodes where the shortest path is already computed. The nodes that are added ot the `seen_nodes` are the ones for which have the absolute shortest path. In order, to ensure a shorter look-up time for shortest path we use `set()` datastructure which optimizes the look-up time at O(1) instead of O(n) when a `list()` data structure is used.\n",
    "3. Set the distance from the source node to itself as 0, and the array representing the hops taken to reach the shortest path to contain the source node itself. This means that we can back-track the hops taken to reach the shortest path from the source node.\n",
    "\n",
    "**Loop()**\n",
    "4. **While** there exists a node in the queue that is not `seen`:\n",
    "5. Set the current node as the node with the smallest distance (in code, referred as `min_node` and `min_dist`). In the first iteration of the loop, this will be the source node and thus we set the `dist` as 0.\n",
    "6. Add the current node, `min_node` to the `seen` set\n",
    "7. Update the total distance (`tot_dist`) for each neighbors of the current node, `min_node` to be the absolute distance from `min_node` to `source` added with the edge length from the `min_node` to its neighbor, **IF** this value is less than the current distance computed for `min_node`'s neighbor. \n",
    "    If this neighbor is not seen, then since `tot_dist` is initiated to infinity, the computed sum of `tot_dist` should be less than this sum. If we update the `tot_dist`, we also update the hops (previous nodes) that were used to reach this distance by concatenating the hops of `min_node` along with `min_node` to the `source` node.\n",
    "8. **End While**"
   ]
  },
  {
   "cell_type": "markdown",
   "metadata": {},
   "source": [
    "<pre> \n",
    "1  <b>function</b> Dijkstra(<i>Graph</i>, <i>source</i>):\n",
    "2     create vertex set \n",
    "3      create vertex set Q\n",
    "4\n",
    "5      <b>for each</b> vertex <i>v</i> in <i>Graph</i>:             \n",
    "6          dist[<i>v</i>] ← INFINITY                  \n",
    "7          prev[<i>v</i>] ← UNDEFINED                 \n",
    "8          add <i>v</i> to <i>Q</i>                      \n",
    "10      dist[<i>source</i>] ← 0                        \n",
    "11      \n",
    "12      <b>while</b> <i>Q</i> is not empty:\n",
    "13          <i>u</i> ← vertex in <i>Q</i> with min dist[u]    \n",
    "14                                              \n",
    "15          remove <i>u</i> from <i>Q</i> \n",
    "16          \n",
    "17          <b>for each</b> neighbor <i>v</i> of <i>u</i>:           <i>// only v that are still in Q</i>\n",
    "18              <i>alt</i> ← dist[<i>u</i>] + length(<i>u</i>, <i>v</i>)\n",
    "19              <b>if</b> <i>alt</i> &lt; dist[<i>v</i>]:               \n",
    "20                  dist[<i>v</i>] ← <i>alt</i> \n",
    "21                  prev[<i>v</i>] ← <i>u</i> \n",
    "22\n",
    "23      <b>return</b> dist[], prev[]\n",
    "</pre>"
   ]
  },
  {
   "cell_type": "code",
   "execution_count": 3,
   "metadata": {},
   "outputs": [],
   "source": [
    "def dijkstra(graph, sourceNode, targetNode):\n",
    "    sourceNodeIndex = graph.get_nodeIndex(sourceNode)\n",
    "    targetNodeIndex = graph.get_nodeIndex(targetNode)\n",
    "    nodeList = graph.get_nodeList()\n",
    "\n",
    "    # Make an array keeping track of distance from node to any node\n",
    "    # in self.nodes. Initialize to infinity for all nodes but the \n",
    "    # starting node, keep track of \"path\" which relates to distance.\n",
    "    # Index 0 = distance, index 1 = node hops\n",
    "    dist = [None] * len(nodeList)\n",
    "    for i in range(len(dist)):\n",
    "        dist[i] = [float(\"inf\")]\n",
    "        dist[i].append([nodeList[sourceNodeIndex]])\n",
    "    \n",
    "    dist[sourceNodeIndex][0] = 0\n",
    " \n",
    "    # Queue of all nodes in the graph\n",
    "    # Note the integers in the queue correspond to indices of node\n",
    "    # locations in the self.nodes array\n",
    "    queue = [i for i in range(len(nodeList))]\n",
    "    # Set of numbers seen so far\n",
    "    seen = set()\n",
    "    while len(queue) > 0:\n",
    "        # Get node in queue that has not yet been seen\n",
    "        # that has smallest distance to starting node\n",
    "        min_dist = float(\"inf\")\n",
    "        min_node = None\n",
    "        for n in queue: \n",
    "            if dist[n][0] < min_dist and n not in seen:\n",
    "                min_dist = dist[n][0]\n",
    "                min_node = n\n",
    "        \n",
    "        # Add min distance node to seen, remove from queue\n",
    "        queue.remove(min_node)\n",
    "        seen.add(min_node)\n",
    "        \n",
    "        \n",
    "        # Get all next hops -> all shortest paths\n",
    "        connections = graph.connectionsFrom(min_node)\n",
    "        # For each connection, update its path and total distance from \n",
    "        # starting node if the total distance is less than the current distance\n",
    "        # in dist array\n",
    "        \n",
    "        print(\"current node %s\" % min_node)\n",
    "        print (\"neighbors:\" , [node.index for (node, weight) in connections])\n",
    "        for (node, weight) in connections: \n",
    "            tot_dist = weight + min_dist\n",
    "            print(\"From Node %s to Node %s there is an edge of weight %d\" % (min_node, node.index, weight))\n",
    "            print('Previous distance value: %.0f' % dist[node.index][0])\n",
    "            print('Computed distance value: %d' % tot_dist)\n",
    "            if tot_dist < dist[node.index][0]:\n",
    "                #if less, print the update\n",
    "                print(\"Initial Distance was %.0f has been updated to %d \" % (dist[node.index][0], tot_dist))\n",
    "                dist[node.index][0] = tot_dist\n",
    "                dist[node.index][1] = list(dist[min_node][1])\n",
    "                dist[node.index][1].append(node)\n",
    "            if node.index != targetNodeIndex:\n",
    "                print(\"Distance not updated, previous distance of %.0f is retained\" % dist[node.index][0])\n",
    "            else:\n",
    "                print(\"\\n****************************************************************************************\")\n",
    "                print(\"Total distance to sourceNode %d from targetNode %d is %d\" % (sourceNodeIndex, targetNodeIndex, dist[node.index][0]))\n",
    "                print(\"Nodes part of the shortest path: \", [node.index for node in dist[node.index][1]])\n",
    "                return dist\n",
    "            \n",
    "        print(\"---------------------------------------------------------------------------------------\\n\")\n",
    "    \n",
    "    return dist"
   ]
  },
  {
   "cell_type": "markdown",
   "metadata": {},
   "source": [
    "## Computing the shortest path\n",
    "\n",
    "Now, that we have an understanding of how DIjkstra's algorithm computes the shortest path, we find the shortest path between a given source node and the target node. In short, we visualize only the shortest path between the source and the target nodes instead of visualizing the shortest paths to all the nodes. "
   ]
  },
  {
   "cell_type": "code",
   "execution_count": 4,
   "metadata": {
    "scrolled": false
   },
   "outputs": [
    {
     "name": "stdout",
     "output_type": "stream",
     "text": [
      "current node 1\n",
      "neighbors: [0, 2, 3]\n",
      "From Node 1 to Node 0 there is an edge of weight 1\n",
      "Previous distance value: inf\n",
      "Computed distance value: 1\n",
      "Initial Distance was inf has been updated to 1 \n",
      "Distance not updated, previous distance of 1 is retained\n",
      "From Node 1 to Node 2 there is an edge of weight 10\n",
      "Previous distance value: inf\n",
      "Computed distance value: 10\n",
      "Initial Distance was inf has been updated to 10 \n",
      "Distance not updated, previous distance of 10 is retained\n",
      "From Node 1 to Node 3 there is an edge of weight 6\n",
      "Previous distance value: inf\n",
      "Computed distance value: 6\n",
      "Initial Distance was inf has been updated to 6 \n",
      "Distance not updated, previous distance of 6 is retained\n",
      "---------------------------------------------------------------------------------------\n",
      "\n",
      "current node 0\n",
      "neighbors: [1, 2, 4]\n",
      "From Node 0 to Node 1 there is an edge of weight 1\n",
      "Previous distance value: 0\n",
      "Computed distance value: 2\n",
      "Distance not updated, previous distance of 0 is retained\n",
      "From Node 0 to Node 2 there is an edge of weight 10\n",
      "Previous distance value: 10\n",
      "Computed distance value: 11\n",
      "Distance not updated, previous distance of 10 is retained\n",
      "From Node 0 to Node 4 there is an edge of weight 2\n",
      "Previous distance value: inf\n",
      "Computed distance value: 3\n",
      "Initial Distance was inf has been updated to 3 \n",
      "Distance not updated, previous distance of 3 is retained\n",
      "---------------------------------------------------------------------------------------\n",
      "\n",
      "current node 4\n",
      "neighbors: [0, 3]\n",
      "From Node 4 to Node 0 there is an edge of weight 2\n",
      "Previous distance value: 1\n",
      "Computed distance value: 5\n",
      "Distance not updated, previous distance of 1 is retained\n",
      "From Node 4 to Node 3 there is an edge of weight 3\n",
      "Previous distance value: 6\n",
      "Computed distance value: 6\n",
      "Distance not updated, previous distance of 6 is retained\n",
      "---------------------------------------------------------------------------------------\n",
      "\n",
      "current node 3\n",
      "neighbors: [1, 2, 4]\n",
      "From Node 3 to Node 1 there is an edge of weight 6\n",
      "Previous distance value: 0\n",
      "Computed distance value: 12\n",
      "Distance not updated, previous distance of 0 is retained\n",
      "From Node 3 to Node 2 there is an edge of weight 1\n",
      "Previous distance value: 10\n",
      "Computed distance value: 7\n",
      "Initial Distance was 10 has been updated to 7 \n",
      "Distance not updated, previous distance of 7 is retained\n",
      "From Node 3 to Node 4 there is an edge of weight 3\n",
      "Previous distance value: 3\n",
      "Computed distance value: 9\n",
      "Distance not updated, previous distance of 3 is retained\n",
      "---------------------------------------------------------------------------------------\n",
      "\n",
      "current node 2\n",
      "neighbors: [0, 1, 3, 5]\n",
      "From Node 2 to Node 0 there is an edge of weight 10\n",
      "Previous distance value: 1\n",
      "Computed distance value: 17\n",
      "Distance not updated, previous distance of 1 is retained\n",
      "From Node 2 to Node 1 there is an edge of weight 10\n",
      "Previous distance value: 0\n",
      "Computed distance value: 17\n",
      "Distance not updated, previous distance of 0 is retained\n",
      "From Node 2 to Node 3 there is an edge of weight 1\n",
      "Previous distance value: 6\n",
      "Computed distance value: 8\n",
      "Distance not updated, previous distance of 6 is retained\n",
      "From Node 2 to Node 5 there is an edge of weight 10\n",
      "Previous distance value: inf\n",
      "Computed distance value: 17\n",
      "Initial Distance was inf has been updated to 17 \n",
      "\n",
      "****************************************************************************************\n",
      "Total distance to sourceNode 1 from targetNode 5 is 17\n",
      "Nodes part of the shortest path:  [1, 3, 2, 5]\n"
     ]
    },
    {
     "data": {
      "text/plain": [
       "<matplotlib.axes._subplots.AxesSubplot at 0x7f27ccd26940>"
      ]
     },
     "execution_count": 4,
     "metadata": {},
     "output_type": "execute_result"
    },
    {
     "data": {
      "image/png": "[encoded data removed]",
      "text/plain": [
       "<Figure size 576x432 with 1 Axes>"
      ]
     },
     "metadata": {},
     "output_type": "display_data"
    }
   ],
   "source": [
    "sourceNode = b\n",
    "targetNode = f\n",
    "\n",
    "for (weight, node) in dijkstra(graphs, sourceNode, targetNode):\n",
    "    if graphs.get_nodeIndex(targetNode) == [n.index for n in node][-1]:\n",
    "        nodes_in_path = [n.index for n in node]\n",
    "        edgelist = []\n",
    "        for i in range(len(nodes_in_path)):\n",
    "            try:\n",
    "                wt = graphs.getWeight(nodes_in_path[i],nodes_in_path[i+1])\n",
    "                edgelist.append((nodes_in_path[i],nodes_in_path[i+1], wt))\n",
    "\n",
    "            except IndexError:\n",
    "                break\n",
    "displayPath(visualGraph, edgelist)"
   ]
  },
  {
   "cell_type": "markdown",
   "metadata": {},
   "source": [
    "## Proof of Correctness\n",
    "\n",
    "In this section, we prove that the distance computed by the Dijkstra's shortest path algorithm is always correct and is the shortest distance from the `source` to any node on the graph as long as there are non-negative edge weights.\n",
    "\n",
    "*Notation:* For the current node $node$, $ dist[node][0]$ represents the distance value and $ dist[node][1]$ represents the list of nodes that are hopped to reach the current node\n",
    "\n",
    "\n",
    "*Claim:* In this proof, we are interested to prove that the distance computed by the Dijkstra's shortest path algorithm is always the same as the actual shortest distance from the source node to any node on the graph. This is mathematically expressed as, $ dist[v][0] = \\delta(v) ; \\forall v \\in V$ where $V$ represents the set of all nodes in the graph.\n",
    "\n",
    "\n",
    "We verify this claim using mathematical induction on the set of visited nodes ($seen$).\n",
    "\n",
    "*Induction Hypothesis:* For every iteration of the Dijkstra's algorithm, the shortest paths for the nodes in the set of visited nodes ($seen$) is computed correctly. We can express this hypothesis as: $\\forall n \\in seen; dist[n][0] = \\delta(n)$  is the shortest distance and $dist[n][1]$ represents the shortest path from the source to node n in the graph.\n",
    "\n",
    "*Base Case:* $ dist[source][0] = 0 = \\delta(source)$ occurs only at the first iteration of the algorithm when the visited node is `source`, |$seen$| = 1 . In this case, the invariant hypothesis holds TRUE.\n",
    "\n",
    "*Proof:*\n",
    "In the current iteration of the Dijkstra's algorithm, node $v^{*}$ is in the $seen$ set.\n",
    "Now, we pick an edge from node $v^{*}$ to $w^{*}$ and add $w^{*}$ to the $seen$ set.\n",
    "\n",
    "Thus the shortest path from the source to the node $w*$ computed by the Dijkstra's algorithm is given as,\n",
    "$dist[w^{*}][1] = dist[v^{*}][1] \\cup edge\\_length(v^{*}, w^{*})$\n",
    "\n",
    "By the induction hypothesis, we get that $dist[v^{*}][1]$ is the correct shortest path, and it satisfies the condition, $ dist[v^{*}][0] = 0 = \\delta(v^{*})$\n",
    "\n",
    "Thus, the computed shortest distance is given as $dist[w^{*}][0] = dist[v^{*}][0] + edge\\_length(v^{*}, w^{*})$\n",
    "This also means that $dist[w^{*}][1]$ is a path that exists from the $source$ to node $w^{*}$ with distance $dist[w^{*}][0]$.\n",
    "\n",
    "We now need to show that every other path from the $source$ to node $w^{*}$ has a length $\\geq dist[v^{*}][0] + edge\\_length(v^{*}, w^{*})$\n",
    "\n",
    "Let us consider a path $P$ from the $source$ to node $w^{*}$ where $source \\in seen \\text{  and  } w^{*} \\not\\in seen $\n",
    "\n",
    "This path $P$ starts from the $source$ node which is already visited and will traverse through nodes that are not visited before reaching node $w^{*}$. Thus, the path needs to take an edge from a suitable node in the set of seen nodes to reach a previously unvisited node. Please note that the path can traverse in-and-out of the nodes in $seen$ before reaching node $w^{*}$.  \n",
    "\n",
    "To make it a bit clear, before starting the `while` loop of the algorithm for the current iteration $source \\in seen \\text{  and  } w^{*} \\not\\in seen $. \n",
    "\n",
    "We consider the first instance when path $P$ takes an edge from a node in the set of visited nodes to a previously unvisited node. Consider node $y$ as thenode in the set of visited nodes which has an outgoing edge to node $z$ where $y \\in seen \\text{  and  } z \\not\\in seen$. At this point, $w^{*} \\not\\in seen $.\n",
    "\n",
    "Now, we need to find the minimum length or the minimum length of the shortest path from the $source$ to node $w^{*}$. Considering that there are no edges with negative weights, we compute the minimum length of the shortest path by considering different parts of the path $P$:\n",
    "\n",
    "- The length of the path from the $source$ to node $y$ is at least the shortest path which is inferred by the induction hypothesis. $dist[y][0] = \\delta(y); y \\in seen$ \n",
    "- The length of the edge from the node $y$ to node $z$\n",
    "- From node $z$ which is not yet visited, we can reach node $w^{*}$ at a distance of $0$ when $z = w^{*}$\n",
    "\n",
    "Combining the different parts, we get the length of path $P_{length} = dist[y][0] + edge\\_length(y, z) + 0$\n",
    "\n",
    "Now, we need to incorporate the criterion of choosing edges with minimum distance from the current node which the Dijkstra's algorithm uses to select the next node to visit. This will yield the following inequality,\n",
    "$dist[v^{*}][0] + edge\\_length(v^{*}, w^{*}) \\leq dist[y][0] + edge\\_length(y, z) \\leq P_{length}$\n",
    "\n",
    "This means there cannot exist a path from $source$ to node $w^{*}$ where $P_{length} \\less dist[v^{*}][0] + edge\\_length(v^{*}, w^{*})$ which means that the path computed by the Dijkstra's algorithm is always the shortest path from the source.\n"
   ]
  },
  {
   "cell_type": "markdown",
   "metadata": {},
   "source": [
    "## Optimizing using adjacency list representation and priority queues\n",
    "\n",
    "Now that we have clear distinction that adjacency list representation offers a better algorithmic performance over adjacency matrix. We would like to see if we could optimize the algorithmic performance of our implementation of the Dijkstra's Shortest Path algorithm.\n",
    "\n",
    "### Why optimize?\n",
    "Dijkstra's shortest path is already a greedy algorithm which saves computation and time, since in every iteration of the algorithm, we find the node with smallest distance before making our next greedy decision. This decision-making step ensures that not every possible source-destination combination is checked in order to determine the shortest path.\n",
    "\n",
    "In our implementation of the Dijkstra's algorithm, so far, we search through a list, `queue` based on the values of `dist`. The maximum length of `queue` is the number of nodes$(n)$ in the graph, therefore iterating along the `queue` takes $O(n)$ time. Since, we terminate only when all the nodes are visited, that is the length of `seen` set is the number of nodes in the graph, we are doing the $O(n)$ operation of iterating through the nodes n-times, making the total running time of our implementation to become $O(n^2)$. Now, if we look at our graph representation, we use an adjacency matrix, which means to find the connections (or) the edges for a particular node, we iterate through the entire matrix row which has the length equal to the number of nodes in the graph. This adds another $O(n)$ time while iteration while looping through each node in the graph.\n",
    "\n",
    "\n",
    "### Optimization Steps\n",
    "1. Instead of iterating through the entire row of the adjacency matrix representation of the graph to find the nodes adjacent to the current node at $O(n)$ time, we use the adjacency list representation which could reduce the time to find adjacent nodes to $O(k)$ where `k` refers to the number of edges for the node.\n",
    "2. Instead of maintaining a list of nodes and iterating over them at $O(n)$ time, we use a Binary heap which helps to find the node with the minimum distance at $O(log(n))$ or use a Fibonacci heap which will make the task to find the nodes with minimum distance at $O(1)$ time.\n",
    "\n",
    "\n",
    "### What are Heaps?\n",
    "\n",
    "\n",
    "\n",
    "### How Heaps improve running time? \n",
    "\n",
    "### Implementation notes"
   ]
  },
  {
   "cell_type": "code",
   "execution_count": 5,
   "metadata": {},
   "outputs": [],
   "source": [
    "from modules.create_graph_from_list import *\n",
    "import heapq"
   ]
  },
  {
   "cell_type": "code",
   "execution_count": null,
   "metadata": {},
   "outputs": [],
   "source": []
  },
  {
   "cell_type": "code",
   "execution_count": 6,
   "metadata": {},
   "outputs": [
    {
     "name": "stdout",
     "output_type": "stream",
     "text": [
      "( 0 , 1, 1.00)\n",
      "( 0 , 2, 10.00)\n",
      "( 0 , 4, 2.00)\n",
      "( 0 , 1, 1.00)\n",
      "( 0 , 2, 10.00)\n",
      "( 0 , 4, 2.00)\n",
      "( 1 , 0, 1.00)\n",
      "( 1 , 2, 10.00)\n",
      "( 1 , 3, 6.00)\n",
      "( 1 , 2, 10.00)\n",
      "( 1 , 3, 6.00)\n",
      "( 2 , 0, 10.00)\n",
      "( 2 , 1, 10.00)\n",
      "( 2 , 3, 1.00)\n",
      "( 2 , 5, 10.00)\n",
      "( 2 , 3, 1.00)\n",
      "( 2 , 5, 10.00)\n",
      "( 4 , 0, 2.00)\n",
      "( 4 , 3, 3.00)\n",
      "( 3 , 1, 6.00)\n",
      "( 3 , 2, 1.00)\n",
      "( 3 , 4, 3.00)\n",
      "( 3 , 4, 3.00)\n",
      "( 5 , 2, 10.00)\n"
     ]
    }
   ],
   "source": [
    "# dijkstra_anotherWay(graphs, graphs.get_vertexList(a), graphs.get_vertexList(e)) \n",
    "# target = graphs.get_vertexList(dst)  \n",
    "# path = [graphs.get_nodeIndex(target)]\n",
    "# shortest(target, path)\n",
    "\n",
    "src = graphs.get_nodeIndex(sourceNode)\n",
    "dst = graphs.get_nodeIndex(targetNode)\n",
    "g = build_graph(graphs.get_adjacencyList())\n",
    "\n",
    "\n",
    "for v in g:\n",
    "    for w in v.get_connections():\n",
    "        vid = v.get_id()\n",
    "        wid = w.get_id()\n",
    "        print('( %s , %s, %.2f)'  % ( vid, wid, v.get_weight(w)))"
   ]
  },
  {
   "cell_type": "markdown",
   "metadata": {},
   "source": [
    "## Running Time comparison\n",
    "\n",
    "--content goes here ---- https://en.wikipedia.org/wiki/Dijkstra%27s_algorithm#Running_time (also from CLRS)"
   ]
  },
  {
   "cell_type": "markdown",
   "metadata": {},
   "source": [
    "## Graph Representations\n",
    "\n",
    "While this is a slight deviation from the actual topic of implementing Dijkstra's Algorithm, it is important to describe the two ways of representing a graph on paper (or) code namely the **Adjacency List** and **Adjacency Matrix**. This section will not be a detailed explanation about these representations but the purpose is to introduce how graph representations can help in implementing graph-based algorithms. In case you are interested in reading more about the graph representations check out [0_graphs and graph_representations](#).\n",
    "\n",
    "\n",
    "**Adjacency Matrix** in a nutshell is a ($n * n$) square matrix which indicates if two vertices are connected by an edge or not. Adjacency matrices are used since they are intutive and helps to visualize the graphs. However, as the graphs get bigger the runtime of using an adjacency matrix increases, more information can be found on the [running_time section](#).\n",
    "\n",
    "The following is the adjacency matrix representation for the graph considered as an example. In this matrix, each row and column represents one node. For example row \"1\" and column \"1\" will be associated with Node \"1\" (or `b (in code)`) in the visualized graph above. Each element in this matrix represents an edge, which is either denoted as (0,1) for an unweighted graph or with a value which corresponds to the weight of the edge. In our graph, for Node 1, we have three edges namely:\n",
    "1. (1,0) -> 1   `in code they correspond to graphs,connect(a,b,1)`\n",
    "2. (1,2) -> 10  `in code they correspond to graphs,connect(b,c,10)`\n",
    "3. (1,3) -> 6   `in code they correspond to graphs,connect(b,d,6)`\n",
    "\n",
    "In our example, since the graph is undirected, we notice that the adjacency matrix as well its trasponse are symmetrcical, which indicates the connections are bidirectional. The bidirectional nature of the edge can be observed in the matrix where the statement `graphs,connect(a,b,1)` has the edge presence for both (0,1) -> 1 and (1,0) -> 1 cases on the adjacency matrix."
   ]
  },
  {
   "cell_type": "code",
   "execution_count": 7,
   "metadata": {},
   "outputs": [
    {
     "data": {
      "text/plain": [
       "[[0, 1, 10, 0, 2, 0],\n",
       " [1, 0, 10, 6, 0, 0],\n",
       " [10, 10, 0, 1, 0, 10],\n",
       " [0, 6, 1, 0, 3, 0],\n",
       " [2, 0, 0, 3, 0, 0],\n",
       " [0, 0, 10, 0, 0, 0]]"
      ]
     },
     "execution_count": 7,
     "metadata": {},
     "output_type": "execute_result"
    }
   ],
   "source": [
    "graphs.get_adjMatrix()"
   ]
  },
  {
   "cell_type": "markdown",
   "metadata": {},
   "source": [
    "**Adjacency List** are compact representations for the graph as each node on the graph is associated with the collection of its neighboring nodes and their corresponding edge weights. In comparison to the adjacency matrix, the main difference of adjacency lists in the amount of space in the memory it occupies. While adjacency matrix representations consume $O(n^2)$, adjacency lists consume $O(m)$ where $m$ refers to the number of edges adjacent to the node. The space saved in the memory also results in a faster lookups when adjacency lists are used. \n",
    "\n",
    "In practice, adjacency list representations for a graph can be done in different ways based on the data strucutre used namely with dictionaries, linked lists or hash tables. It is to be noted that adjacency lists are considered efficient implementation choice when the graph is sparsely connected. Below, is the adjacency list representation of the graph we use as example in this notebook"
   ]
  },
  {
   "cell_type": "code",
   "execution_count": 8,
   "metadata": {},
   "outputs": [
    {
     "data": {
      "text/plain": [
       "defaultdict(dict,\n",
       "            {0: {1: 1, 2: 10, 4: 2},\n",
       "             1: {0: 1, 2: 10, 3: 6},\n",
       "             2: {0: 10, 1: 10, 3: 1, 5: 10},\n",
       "             3: {1: 6, 2: 1, 4: 3},\n",
       "             4: {0: 2, 3: 3},\n",
       "             5: {2: 10}})"
      ]
     },
     "execution_count": 8,
     "metadata": {},
     "output_type": "execute_result"
    }
   ],
   "source": [
    "graphs.get_adjacencyList()"
   ]
  },
  {
   "cell_type": "markdown",
   "metadata": {},
   "source": [
    "### Adjacency List vs Adjacency Matrix: an overview\n",
    "\n",
    "Now that we have an overview of the two ways to represent a graph, we are interested to understand which is a better method to represent the graph. Adjacency lists appear to be an effective graph representation if we are interested to implement time-efficient algorithms. If we would like to visualize the graph intuitively, the adjacency matrix is the better representation.\n",
    "\n",
    "**Performance Factors**\n",
    "1. *Space Complexity* refers to the amount of space the graph representation occupies on the memory\n",
    "2. *Edge Lookup* refers to the time taken for checking the presence or absence of an edge between two nodes\n",
    "3. *Add new edge* is the time taken to add a new edge\n",
    "4. *Add/ Delete Node* the time taken to \n",
    "\n",
    "**Notation guide**\n",
    "* `k` refers to the number of neighboring nodes in the adjacency list \n",
    "* `m` refers to the number of edges in the graph\n",
    "* `n` refers to the number of nodes in the graph\n",
    "\n",
    "|  Factor | Adjacency Matrix | Adjacency List | Winner|\n",
    "|----------------------|------------------|----------------|---------------|\n",
    "| Space Complexity     |     $O(n^2)$     |      $O(m)$    |For sparse graphs; adjacency lists|\n",
    "| Edge Lookup          |     $O(1)$       |      $O(k)$    |Adjacency Matrix, Adjacency lists are slightly slower|\n",
    "| Adding new Edge      |     $O(1)$       |      $O(1)$    |Tie|\n",
    "| Adding/Removing nodes|     $O(n^2)$     |      $O(k)$    |Adjacency lists; iterating over one dimension is faster|\n",
    "\n",
    "We believe this table, should help you make an informed decision on which graph representation would be suitable for your algorithm."
   ]
  },
  {
   "cell_type": "markdown",
   "metadata": {
    "scrolled": true
   },
   "source": [
    "## Reference"
   ]
  }
 ],
 "metadata": {
  "kernelspec": {
   "display_name": "Python 3",
   "language": "python",
   "name": "python3"
  },
  "language_info": {
   "codemirror_mode": {
    "name": "ipython",
    "version": 3
   },
   "file_extension": ".py",
   "mimetype": "text/x-python",
   "name": "python",
   "nbconvert_exporter": "python",
   "pygments_lexer": "ipython3",
   "version": "3.6.9"
  }
 },
 "nbformat": 4,
 "nbformat_minor": 2
}
