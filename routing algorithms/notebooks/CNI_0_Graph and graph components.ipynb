{
 "cells": [
  {
   "cell_type": "markdown",
   "metadata": {},
   "source": [
    "# Graph Primer"
   ]
  },
  {
   "cell_type": "code",
   "execution_count": 1,
   "metadata": {},
   "outputs": [],
   "source": [
    "import os, sys\n",
    "from os.path import dirname, join, abspath\n",
    "import warnings\n",
    "warnings.filterwarnings('ignore')\n",
    "\n",
    "sys.path.insert(0, abspath(join(dirname(\"modules\"), '..')))\n",
    "from modules.create_graph_from_matrix import *\n",
    "from modules.visualize_graph import *"
   ]
  },
  {
   "cell_type": "markdown",
   "metadata": {},
   "source": [
    "## Building the graph\n",
    "\n",
    "The notion or idea of a graph is a set of nodes that are connected by edges. \n",
    "\n",
    "Nodes are objects or points that represent a networking device or component like edge nodes, router, data centres, name servers. Edges represents the connection between two nodes, and often time communicates two information namely the weight and direction.\n",
    "1. **Weights** is a scalar quantity that typically represents either the distance between two nodes, or the latency between two nodes on the network.\n",
    "2. **Direction** is a quantity which represents the direction in which communication happens between two nodes."
   ]
  },
  {
   "cell_type": "code",
   "execution_count": 2,
   "metadata": {},
   "outputs": [
    {
     "data": {
      "image/png": "[encoded data removed]",
      "text/plain": [
       "<Figure size 432x288 with 1 Axes>"
      ]
     },
     "metadata": {},
     "output_type": "display_data"
    }
   ],
   "source": [
    "a = Node()\n",
    "b = Node()\n",
    "c = Node()\n",
    "d = Node()\n",
    "e = Node()\n",
    "f = Node()\n",
    "\n",
    "graphs = Graph.create_from_nodeList([a, b, c, d, e, f])\n",
    "\n",
    "\n",
    "graphs.connect(a,b,1)\n",
    "graphs.connect(a,c,10)\n",
    "graphs.connect(a,e,2)\n",
    "graphs.connect(b,c,10)\n",
    "graphs.connect(b,d,6)\n",
    "graphs.connect(c,d,1)\n",
    "graphs.connect(c,f,10)\n",
    "graphs.connect(d,e,3)\n",
    "\n",
    "adjacentMatrix = graphs.get_adjMatrix()\n",
    "visualGraph = visualizeGraph(adjacentMatrix)"
   ]
  },
  {
   "cell_type": "markdown",
   "metadata": {},
   "source": [
    "## Graph Representations\n",
    "\n",
    "While this is a slight deviation from the actual topic of implementing Dijkstra's Algorithm, it is important to describe the two ways of representing a graph on paper (or) code namely the **Adjacency List** and **Adjacency Matrix**. This section will not be a detailed explanation about these representations but the purpose is to introduce how graph representations can help in implementing graph-based algorithms. In case you are interested in reading more about the graph representations check out [0_graphs and graph_representations](#).\n",
    "\n",
    "\n",
    "**Adjacency Matrix** in a nutshell is a ($n * n$) square matrix which indicates if two vertices are connected by an edge or not. Adjacency matrices are used since they are intutive and helps to visualize the graphs. However, as the graphs get bigger the runtime of using an adjacency matrix increases, more information can be found on the [running_time section](#).\n",
    "\n",
    "The following is the adjacency matrix representation for the graph considered as an example. In this matrix, each row and column represents one node. For example row \"1\" and column \"1\" will be associated with Node \"1\" (or `b (in code)`) in the visualized graph above. Each element in this matrix represents an edge, which is either denoted as (0,1) for an unweighted graph or with a value which corresponds to the weight of the edge. In our graph, for Node 1, we have three edges namely:\n",
    "1. (1,0) -> 1   `in code they correspond to graphs,connect(a,b,1)`\n",
    "2. (1,2) -> 10  `in code they correspond to graphs,connect(b,c,10)`\n",
    "3. (1,3) -> 6   `in code they correspond to graphs,connect(b,d,6)`\n",
    "\n",
    "In our example, since the graph is undirected, we notice that the adjacency matrix as well its trasponse are symmetrcical, which indicates the connections are bidirectional. The bidirectional nature of the edge can be observed in the matrix where the statement `graphs,connect(a,b,1)` has the edge presence for both (0,1) -> 1 and (1,0) -> 1 cases on the adjacency matrix."
   ]
  },
  {
   "cell_type": "code",
   "execution_count": 3,
   "metadata": {},
   "outputs": [
    {
     "data": {
      "text/plain": [
       "[[0, 1, 10, 0, 2, 0],\n",
       " [1, 0, 10, 6, 0, 0],\n",
       " [10, 10, 0, 1, 0, 10],\n",
       " [0, 6, 1, 0, 3, 0],\n",
       " [2, 0, 0, 3, 0, 0],\n",
       " [0, 0, 10, 0, 0, 0]]"
      ]
     },
     "execution_count": 3,
     "metadata": {},
     "output_type": "execute_result"
    }
   ],
   "source": [
    "graphs.get_adjMatrix()"
   ]
  },
  {
   "cell_type": "markdown",
   "metadata": {},
   "source": [
    "**Adjacency List** are compact representations for the graph as each node on the graph is associated with the collection of its neighboring nodes and their corresponding edge weights. In comparison to the adjacency matrix, the main difference of adjacency lists in the amount of space in the memory it occupies. While adjacency matrix representations consume $O(n^2)$, adjacency lists consume $O(m)$ where $m$ refers to the number of edges adjacent to the node. The space saved in the memory also results in a faster lookups when adjacency lists are used. \n",
    "\n",
    "In practice, adjacency list representations for a graph can be done in different ways based on the data strucutre used namely with dictionaries, linked lists or hash tables. It is to be noted that adjacency lists are considered efficient implementation choice when the graph is sparsely connected. Below, is the adjacency list representation of the graph we use as example in this notebook"
   ]
  },
  {
   "cell_type": "code",
   "execution_count": 4,
   "metadata": {},
   "outputs": [
    {
     "data": {
      "text/plain": [
       "defaultdict(dict,\n",
       "            {0: {1: 1, 2: 10, 4: 2},\n",
       "             1: {0: 1, 2: 10, 3: 6},\n",
       "             2: {0: 10, 1: 10, 3: 1, 5: 10},\n",
       "             3: {1: 6, 2: 1, 4: 3},\n",
       "             4: {0: 2, 3: 3},\n",
       "             5: {2: 10}})"
      ]
     },
     "execution_count": 4,
     "metadata": {},
     "output_type": "execute_result"
    }
   ],
   "source": [
    "graphs.get_adjacencyList()"
   ]
  },
  {
   "cell_type": "markdown",
   "metadata": {},
   "source": [
    "### Adjacency List vs Adjacency Matrix: an overview\n",
    "\n",
    "Now that we have an overview of the two ways to represent a graph, we are interested to understand which is a better method to represent the graph. Adjacency lists appear to be an effective graph representation if we are interested to implement time-efficient algorithms. If we would like to visualize the graph intuitively, the adjacency matrix is the better representation.\n",
    "\n",
    "**Performance Factors**\n",
    "1. *Space Complexity* refers to the amount of space the graph representation occupies on the memory\n",
    "2. *Edge Lookup* refers to the time taken for checking the presence or absence of an edge between two nodes\n",
    "3. *Add new edge* is the time taken to add a new edge\n",
    "4. *Add/ Delete Node* the time taken to \n",
    "\n",
    "**Notation guide**\n",
    "* `k` refers to the number of neighboring nodes in the adjacency list \n",
    "* `m` refers to the number of edges in the graph\n",
    "* `n` refers to the number of nodes in the graph\n",
    "\n",
    "|  Factor | Adjacency Matrix | Adjacency List | Winner|\n",
    "|----------------------|------------------|----------------|---------------|\n",
    "| Space Complexity     |     $O(n^2)$     |      $O(m)$    |For sparse graphs; adjacency lists|\n",
    "| Edge Lookup          |     $O(1)$       |      $O(k)$    |Adjacency Matrix, Adjacency lists are slightly slower|\n",
    "| Adding new Edge      |     $O(1)$       |      $O(1)$    |Tie|\n",
    "| Adding/Removing nodes|     $O(n^2)$     |      $O(k)$    |Adjacency lists; iterating over one dimension is faster|\n",
    "\n",
    "We believe this table, should help you make an informed decision on which graph representation would be suitable for your algorithm."
   ]
  },
  {
   "cell_type": "code",
   "execution_count": null,
   "metadata": {},
   "outputs": [],
   "source": []
  },
  {
   "cell_type": "code",
   "execution_count": null,
   "metadata": {},
   "outputs": [],
   "source": []
  }
 ],
 "metadata": {
  "kernelspec": {
   "display_name": "Python 3",
   "language": "python",
   "name": "python3"
  },
  "language_info": {
   "codemirror_mode": {
    "name": "ipython",
    "version": 3
   },
   "file_extension": ".py",
   "mimetype": "text/x-python",
   "name": "python",
   "nbconvert_exporter": "python",
   "pygments_lexer": "ipython3",
   "version": "3.6.9"
  }
 },
 "nbformat": 4,
 "nbformat_minor": 2
}
