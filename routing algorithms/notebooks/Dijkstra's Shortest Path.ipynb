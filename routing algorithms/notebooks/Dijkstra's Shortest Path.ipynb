{
 "cells": [
  {
   "cell_type": "markdown",
   "metadata": {},
   "source": [
    "# Dijkstra's Single Source Shortest Path Algorithm\n",
    "\n",
    "\n",
    "--- content here -----"
   ]
  },
  {
   "cell_type": "markdown",
   "metadata": {},
   "source": [
    "```\n",
    "pseudocodes (if any)\n",
    "\n",
    "```"
   ]
  },
  {
   "cell_type": "markdown",
   "metadata": {},
   "source": [
    "## Fetching required modules"
   ]
  },
  {
   "cell_type": "code",
   "execution_count": 3,
   "metadata": {},
   "outputs": [],
   "source": [
    "import os, sys\n",
    "from os.path import dirname, join, abspath\n",
    "\n",
    "sys.path.insert(0, abspath(join(dirname(\"modules\"), '..')))\n",
    "from modules.create_graph_from_adjMatrix import *\n",
    "from modules.visualize_graph import *\n"
   ]
  },
  {
   "cell_type": "markdown",
   "metadata": {},
   "source": [
    "## Building the graph"
   ]
  },
  {
   "cell_type": "code",
   "execution_count": 4,
   "metadata": {},
   "outputs": [
    {
     "data": {
      "image/png": "[encoded data removed]",
      "text/plain": [
       "<Figure size 432x288 with 1 Axes>"
      ]
     },
     "metadata": {},
     "output_type": "display_data"
    }
   ],
   "source": [
    "a = Node()\n",
    "b = Node()\n",
    "c = Node()\n",
    "d = Node()\n",
    "e = Node()\n",
    "f = Node()\n",
    "\n",
    "graphs = Graph.create_from_nodeList([a, b, c, d, e, f])\n",
    "\n",
    "\n",
    "graphs.connect(a,b,5)\n",
    "graphs.connect(a,c,10)\n",
    "graphs.connect(a,e,2)\n",
    "graphs.connect(b,c,2)\n",
    "graphs.connect(b,d,4)\n",
    "graphs.connect(c,d,1)\n",
    "graphs.connect(c,f,10)\n",
    "graphs.connect(d,e,3)\n",
    "\n",
    "adjancentMatrix = graphs.get_adjMatrix()\n",
    "visualizeGraph(adjancentMatrix)"
   ]
  },
  {
   "cell_type": "markdown",
   "metadata": {},
   "source": [
    "## Implementing the shortest path algorithm"
   ]
  },
  {
   "cell_type": "code",
   "execution_count": 5,
   "metadata": {},
   "outputs": [],
   "source": [
    "def dijkstra(graph, sourceNode, nodeList):\n",
    "    nodenum = graph.get_nodeIndex(sourceNode) \n",
    "\n",
    "    # Make an array keeping track of distance from node to any node\n",
    "    # in self.nodes. Initialize to infinity for all nodes but the \n",
    "    # starting node, keep track of \"path\" which relates to distance.\n",
    "    # Index 0 = distance, index 1 = node hops\n",
    "    dist = [None] * len(nodeList)\n",
    "    for i in range(len(dist)):\n",
    "        dist[i] = [float(\"inf\")]\n",
    "        dist[i].append([nodeList[nodenum]])\n",
    "    \n",
    "    dist[nodenum][0] = 0\n",
    "    # Queue of all nodes in the graph\n",
    "    # Note the integers in the queue correspond to indices of node\n",
    "    # locations in the self.nodes array\n",
    "    queue = [i for i in range(len(nodeList))]\n",
    "    # Set of numbers seen so far\n",
    "    seen = set()\n",
    "    while len(queue) > 0:\n",
    "        # Get node in queue that has not yet been seen\n",
    "        # that has smallest distance to starting node\n",
    "        min_dist = float(\"inf\")\n",
    "        min_node = None\n",
    "        for n in queue: \n",
    "            if dist[n][0] < min_dist and n not in seen:\n",
    "                min_dist = dist[n][0]\n",
    "                min_node = n\n",
    "        \n",
    "        # Add min distance node to seen, remove from queue\n",
    "        queue.remove(min_node)\n",
    "        seen.add(min_node)\n",
    "        # Get all next hops \n",
    "        connections = graph.connectionsFrom(min_node)\n",
    "        # For each connection, update its path and total distance from \n",
    "        # starting node if the total distance is less than the current distance\n",
    "        # in dist array\n",
    "        print(\"current node %s\" % min_node)\n",
    "        for (node, weight) in connections: \n",
    "            tot_dist = weight + min_dist\n",
    "            if tot_dist < dist[node.index][0]:\n",
    "                dist[node.index][0] = tot_dist\n",
    "                dist[node.index][1] = list(dist[min_node][1])\n",
    "                dist[node.index][1].append(node)\n",
    "                print(\"Distance from Node %s to Node %s is of weight %d\" % (min_node, node.index, weight))\n",
    "        print(\"-------------------------------------------------\")\n",
    "    return dist  "
   ]
  },
  {
   "cell_type": "markdown",
   "metadata": {},
   "source": [
    "## Connecting all the dots"
   ]
  },
  {
   "cell_type": "code",
   "execution_count": 6,
   "metadata": {},
   "outputs": [
    {
     "name": "stdout",
     "output_type": "stream",
     "text": [
      "current node 0\n",
      "Distance from Node 0 to Node 1 is of weight 5\n",
      "Distance from Node 0 to Node 2 is of weight 10\n",
      "Distance from Node 0 to Node 4 is of weight 2\n",
      "-------------------------------------------------\n",
      "current node 4\n",
      "Distance from Node 4 to Node 3 is of weight 3\n",
      "-------------------------------------------------\n",
      "current node 1\n",
      "Distance from Node 1 to Node 2 is of weight 2\n",
      "-------------------------------------------------\n",
      "current node 3\n",
      "Distance from Node 3 to Node 2 is of weight 1\n",
      "-------------------------------------------------\n",
      "current node 2\n",
      "Distance from Node 2 to Node 5 is of weight 10\n",
      "-------------------------------------------------\n",
      "current node 5\n",
      "-------------------------------------------------\n",
      "[(0, [0]), (5, [0, 1]), (6, [0, 4, 3, 2]), (5, [0, 4, 3]), (2, [0, 4]), (16, [0, 4, 3, 2, 5])]\n"
     ]
    }
   ],
   "source": [
    "print([(weight, [n.index for n in node]) for (weight, node) in dijkstra(graphs, a, [a, b, c, d, e, f])])\n",
    "#adjancentMatrix = graphs.get_adjMatrix()\n",
    "# visualizeGraph(adjancentMatrix)\n",
    "# print(a)"
   ]
  },
  {
   "cell_type": "code",
   "execution_count": null,
   "metadata": {},
   "outputs": [],
   "source": []
  },
  {
   "cell_type": "code",
   "execution_count": null,
   "metadata": {},
   "outputs": [],
   "source": []
  }
 ],
 "metadata": {
  "kernelspec": {
   "display_name": "Python 3",
   "language": "python",
   "name": "python3"
  },
  "language_info": {
   "codemirror_mode": {
    "name": "ipython",
    "version": 3
   },
   "file_extension": ".py",
   "mimetype": "text/x-python",
   "name": "python",
   "nbconvert_exporter": "python",
   "pygments_lexer": "ipython3",
   "version": "3.6.9"
  }
 },
 "nbformat": 4,
 "nbformat_minor": 2
}
